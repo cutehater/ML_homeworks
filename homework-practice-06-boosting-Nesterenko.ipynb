{
 "cells": [
  {
   "cell_type": "markdown",
   "metadata": {
    "pycharm": {
     "name": "#%% md\n"
    }
   },
   "source": [
    "# Машинное обучение, ФКН ВШЭ\n",
    "\n",
    "# Практическое задание 6. Бустинговое\n",
    "\n",
    "## Общая информация\n",
    "\n",
    "Дата выдачи: 12.12.2023\n",
    "\n",
    "Мягкий дедлайн: 24.12.2023 23:59 MSK\n",
    "\n",
    "Жёсткий дедлайн: 24.12.2023 23:59 MSK\n",
    "\n",
    "## Оценивание и штрафы\n",
    "\n",
    "Каждая из задач имеет определенную «стоимость» (указана в скобках около задачи). Максимально допустимая оценка за работу — 10 баллов.\n",
    "\n",
    "Сдавать задание после указанного срока сдачи нельзя. При выставлении неполного балла за задание в связи с наличием ошибок на усмотрение проверяющего предусмотрена возможность исправить работу на указанных в ответном письме условиях.\n",
    "\n",
    "Задание выполняется самостоятельно. «Похожие» решения считаются плагиатом и все задействованные студенты (в том числе те, у кого списали) не могут получить за него больше 0 баллов (подробнее о плагиате см. на странице курса). Если вы нашли решение какого-то из заданий (или его часть) в открытом источнике, необходимо указать ссылку на этот источник в отдельном блоке в конце вашей работы (скорее всего вы будете не единственным, кто это нашел, поэтому чтобы исключить подозрение в плагиате, необходима ссылка на источник).\n",
    "\n",
    "Неэффективная реализация кода может негативно отразиться на оценке.\n",
    "\n",
    "## Формат сдачи\n",
    "Задания сдаются через систему anytask. Посылка должна содержать:\n",
    "* Ноутбук homework-practice-06-Username.ipynb\n",
    "\n",
    "Username — ваша фамилия на латинице"
   ]
  },
  {
   "cell_type": "markdown",
   "metadata": {
    "pycharm": {
     "name": "#%% md\n"
    }
   },
   "source": [
    "## О задании\n",
    "\n",
    "В этом задании вам предстоит вручную запрограммировать один из самых мощных алгоритмов машинного обучения — бустинг."
   ]
  },
  {
   "cell_type": "code",
   "execution_count": 1,
   "metadata": {
    "pycharm": {
     "name": "#%%\n"
    }
   },
   "outputs": [],
   "source": [
    "from warnings import filterwarnings\n",
    "\n",
    "import matplotlib.pyplot as plt\n",
    "import numpy as np\n",
    "import seaborn as sns\n",
    "from scipy.sparse import load_npz\n",
    "from sklearn.model_selection import train_test_split\n",
    "\n",
    "\n",
    "sns.set(style='darkgrid')\n",
    "filterwarnings('ignore')"
   ]
  },
  {
   "cell_type": "code",
   "execution_count": 2,
   "metadata": {
    "pycharm": {
     "name": "#%%\n"
    }
   },
   "outputs": [],
   "source": [
    "x = load_npz('x.npz')\n",
    "y = np.load('y.npy')"
   ]
  },
  {
   "cell_type": "markdown",
   "metadata": {
    "pycharm": {
     "name": "#%% md\n"
    }
   },
   "source": [
    "Разделим на обучающую, валидационную и тестовую выборки (`random_state` оставьте равным 1337 для воспроизводимости)."
   ]
  },
  {
   "cell_type": "code",
   "execution_count": 3,
   "metadata": {
    "pycharm": {
     "name": "#%%\n"
    }
   },
   "outputs": [
    {
     "data": {
      "text/plain": [
       "((18825, 169), (2354, 169), (2353, 169))"
      ]
     },
     "execution_count": 3,
     "metadata": {},
     "output_type": "execute_result"
    }
   ],
   "source": [
    "x_train, x_test, y_train, y_test = train_test_split(x, y, test_size=0.2, random_state=1337)\n",
    "\n",
    "x_test, x_valid, y_test, y_valid = train_test_split(x_test, y_test, test_size=0.5, random_state=1337)\n",
    "\n",
    "x_train.shape, x_valid.shape, x_test.shape"
   ]
  },
  {
   "cell_type": "markdown",
   "metadata": {
    "pycharm": {
     "name": "#%% md\n"
    }
   },
   "source": [
    "## Задание 1. Реализация градиентного бустингового (4 балла)\n",
    "\n",
    "Вам нужно дописать код в файлике `boosting.py`. Для вас уже подготовлен шаблон класса `Boosting`, вы можете менять его по своему усмотрению.\n",
    "\n",
    "### Инструкции для функций:\n",
    "\n",
    "#### `__init__`\n",
    "\n",
    "В `__init__` приходит кучка параметров, распишем что есть что:\n",
    "\n",
    " - `base_model_class` - класс базовой модели нашего бустинга\n",
    " - `base_model_params` - словарь с гиперпараметрами для базовой модели\n",
    " - `n_estimators` - какое количество базовых моделей нужно обучить\n",
    " - `learning_rate` - темп обучения, должен быть из полуинтервала $(0, 1]$\n",
    " - `subsample` - доля объектов, на которой будет обучаться базовая модель (какую часть составляет бутстрапная выборка от исходной обучающей)\n",
    " - `early_stopping_rounds` - число итераций, после которых при отсутствии улучшения качества на валидационной выборке обучение останавливается\n",
    " - `plot` - строить ли после обучения всех базовых моделей график с качеством\n",
    "\n",
    "#### `fit`\n",
    "\n",
    "В `fit` приходит две выборки, обучающая и валидационная. На обучающей мы обучаем новые базовые модели, на валидационной считаем качество для ранней остановки (если это предусматривают параметры).\n",
    "\n",
    "Сначала нам нужно сделать какую-то нулевую модель, сделать предсказания для обучающей и валидационной выборок (в шаблоне это нулевая модель, соответственно предсказания это просто `np.zeros`). После этого нужно обучить `n_estimators` базовых моделей (как и на что обучаются базовые модели смотрите в лекциях и семинарах). После каждой обученной базовой модели мы должны обновить текущие предсказания, посчитать ошибку на обучающей и валидационной выборках (используем `loss_fn` для этого), проверить на раннюю остановку.\n",
    "\n",
    "После всего цикла обучения надо нарисовать график (если `plot`).\n",
    "\n",
    "\n",
    "#### `fit_new_base_model`\n",
    "\n",
    "В `fit_new_base_model` приходит обучающая выборка (целиком) и текущие предсказания для неё. Мы должны сгенерировать бутстрап выборку для обучения базовой модели и обучить базовую модель. После обучения модели запускаем поиск оптимальной гаммы, добавляем новую модель и гамму (не забываем про темп обучения) в соответствующие списки.\n",
    "\n",
    "#### `predict_proba`\n",
    "\n",
    "В `predict_proba` приходит выборка, нужно предсказать вероятности для неё. Суммируем предсказания базовых моделей на этой выборке (не забываем про гаммы) и накидываем сигмоиду."
   ]
  },
  {
   "cell_type": "code",
   "execution_count": 4,
   "metadata": {
    "pycharm": {
     "name": "#%%\n"
    }
   },
   "outputs": [],
   "source": [
    "%load_ext autoreload"
   ]
  },
  {
   "cell_type": "code",
   "execution_count": 5,
   "metadata": {
    "pycharm": {
     "name": "#%%\n"
    }
   },
   "outputs": [],
   "source": [
    "%autoreload 2\n",
    "\n",
    "from boosting import Boosting"
   ]
  },
  {
   "cell_type": "markdown",
   "metadata": {
    "pycharm": {
     "name": "#%% md\n"
    }
   },
   "source": [
    "### Проверка кода\n",
    "\n",
    "У автора задания всё учится около одной секунды."
   ]
  },
  {
   "cell_type": "code",
   "execution_count": 8,
   "metadata": {
    "pycharm": {
     "name": "#%%\n"
    }
   },
   "outputs": [
    {
     "data": {
      "image/png": "[encoded data removed]",
      "text/plain": [
       "<Figure size 640x480 with 1 Axes>"
      ]
     },
     "metadata": {},
     "output_type": "display_data"
    },
    {
     "name": "stdout",
     "output_type": "stream",
     "text": [
      "CPU times: user 1.54 s, sys: 224 ms, total: 1.76 s\n",
      "Wall time: 1.5 s\n",
      "Train ROC-AUC 0.9492\n",
      "Valid ROC-AUC 0.9067\n",
      "Test ROC-AUC 0.8973\n"
     ]
    }
   ],
   "source": [
    "boosting = Boosting(plot=True)\n",
    "\n",
    "%time boosting.fit(x_train, y_train, x_valid, y_valid)\n",
    "\n",
    "assert len(boosting.models) == boosting.n_estimators\n",
    "assert len(boosting.gammas) == boosting.n_estimators\n",
    "\n",
    "assert boosting.predict_proba(x_test).shape == (x_test.shape[0], 2)\n",
    "\n",
    "print(f'Train ROC-AUC {boosting.score(x_train, y_train):.4f}')\n",
    "print(f'Valid ROC-AUC {boosting.score(x_valid, y_valid):.4f}')\n",
    "print(f'Test ROC-AUC {boosting.score(x_test, y_test):.4f}')"
   ]
  },
  {
   "cell_type": "markdown",
   "metadata": {
    "pycharm": {
     "name": "#%% md\n"
    }
   },
   "source": [
    "## Задание 2. Обучение градиентного бустингового (1 балл)\n",
    "\n",
    "Оцените качество на тестовой выборке вашей имплементации бустинга для различной максимальной глубины решающего дерева в качестве базовой модели. Здесь и далее мы будем использовать метрику ROC-AUC.\n",
    "\n",
    "Перебирайте максимальную глубину от 1 до 30 с шагом 2 (остальные параметры бустинга стоит оставить равными по умолчанию). Постройте график зависимости качества на обучающей и тестовой выборке в зависимости от глубины."
   ]
  },
  {
   "cell_type": "code",
   "execution_count": 9,
   "metadata": {
    "pycharm": {
     "name": "#%%\n"
    }
   },
   "outputs": [
    {
     "data": {
      "image/png": "[encoded data removed]",
      "text/plain": [
       "<Figure size 640x480 with 1 Axes>"
      ]
     },
     "metadata": {},
     "output_type": "display_data"
    }
   ],
   "source": [
    "depths = range(1, 30, 2)\n",
    "train_quality = []\n",
    "test_quality = []\n",
    "\n",
    "for depth in depths:\n",
    "    boosting = Boosting(base_model_params={'max_depth': depth})\n",
    "    boosting.fit(x_train, y_train, x_valid, y_valid)\n",
    "    train_quality.append(boosting.score(x_train, y_train))\n",
    "    test_quality.append(boosting.score(x_test, y_test))\n",
    "    \n",
    "plt.plot(depths, train_quality, label='Train quality')\n",
    "plt.plot(depths, test_quality, label='Test quality')\n",
    "\n",
    "plt.xlabel('Max tree depth')\n",
    "plt.ylabel('ROC-AUC score')\n",
    "plt.title('Train/Test quality depending on max tree depth')\n",
    "            \n",
    "plt.legend()\n",
    "plt.show()"
   ]
  },
  {
   "cell_type": "markdown",
   "metadata": {
    "pycharm": {
     "name": "#%% md\n"
    }
   },
   "source": [
    "**Какая из моделей имеет лучшее качество? Как вы можете это объяснить?**\n",
    "\n",
    "На обучающей выборке с ростом максимальной глубины качество растёт почти до идеального, и дальше остаётся примерно на одном уровне (небольшие скачки, я думаю, связаны со случайно сгенерированной бутстрап выборкой в обучении базовых моделей). На тестовой выборке при росте максимальной глубины качество сначала растёт, достигая своего максимума при глубине 5, а затем начинает падать. Это связано с тем, что при большой глубине базовой модели, бустинг начинает быстро переобучаться и настраиваться не на реальные закономерности в данных, а на шум: отсюда практически идеальное качество на обучающей выборке и ухудшающееся на тестовой."
   ]
  },
  {
   "cell_type": "markdown",
   "metadata": {
    "pycharm": {
     "name": "#%% md\n"
    }
   },
   "source": [
    "## Задание 3. Подбираем гиперпараметры и ищем лучшую модель (3 балла)\n",
    "\n",
    "Подберите по валидационной выборке основные гиперпараметры для вашей модели бустинга. Следует подобрать все основные параметры для самого градиентного бустинга и для самих базовых моделей. Существуют библиотеки для подбора гиперпараметров, попробуйте использовать какую-нибудь из следующих двух - [Hyperopt](https://github.com/hyperopt/hyperopt), [Optuna](https://optuna.org/)."
   ]
  },
  {
   "cell_type": "code",
   "execution_count": 39,
   "metadata": {
    "pycharm": {
     "is_executing": true,
     "name": "#%%\n"
    }
   },
   "outputs": [
    {
     "name": "stdout",
     "output_type": "stream",
     "text": [
      "Defaulting to user installation because normal site-packages is not writeable\n",
      "Collecting jupyterlab\n",
      "  Downloading jupyterlab-4.0.9-py3-none-any.whl (9.2 MB)\n",
      "\u001b[2K     \u001b[38;2;114;156;31m━━━━━━━━━━━━━━━━━━━━━━━━━━━━━━━━━━━━━━━━\u001b[0m \u001b[32m9.2/9.2 MB\u001b[0m \u001b[31m6.6 MB/s\u001b[0m eta \u001b[36m0:00:00\u001b[0mm eta \u001b[36m0:00:01\u001b[0m[36m0:00:01\u001b[0m0m\n",
      "\u001b[?25hCollecting jupyterlab-optuna\n",
      "  Downloading jupyterlab_optuna-0.1.0.tar.gz (3.8 MB)\n",
      "\u001b[2K     \u001b[38;2;114;156;31m━━━━━━━━━━━━━━━━━━━━━━━━━━━━━━━━━━━━━━━━\u001b[0m \u001b[32m3.8/3.8 MB\u001b[0m \u001b[31m15.2 MB/s\u001b[0m eta \u001b[36m0:00:00\u001b[0mm eta \u001b[36m0:00:01\u001b[0m0:01\u001b[0m:01\u001b[0m\n",
      "\u001b[?25h  Installing build dependencies ... \u001b[?25ldone\n",
      "\u001b[?25h  Getting requirements to build wheel ... \u001b[?25ldone\n",
      "\u001b[?25h  Installing backend dependencies ... \u001b[?25ldone\n",
      "\u001b[?25h  Preparing metadata (pyproject.toml) ... \u001b[?25ldone\n",
      "\u001b[?25hCollecting jupyter-server<3,>=2.4.0\n",
      "  Using cached jupyter_server-2.12.1-py3-none-any.whl (380 kB)\n",
      "Collecting async-lru>=1.0.0\n",
      "  Using cached async_lru-2.0.4-py3-none-any.whl (6.1 kB)\n",
      "Requirement already satisfied: jinja2>=3.0.3 in /home/cutehater/.local/lib/python3.10/site-packages (from jupyterlab) (3.1.2)\n",
      "Collecting jupyterlab-server<3,>=2.19.0\n",
      "  Using cached jupyterlab_server-2.25.2-py3-none-any.whl (58 kB)\n",
      "Requirement already satisfied: packaging in /home/cutehater/.local/lib/python3.10/site-packages (from jupyterlab) (23.0)\n",
      "Requirement already satisfied: jupyter-core in /home/cutehater/.local/lib/python3.10/site-packages (from jupyterlab) (5.2.0)\n",
      "Requirement already satisfied: tornado>=6.2.0 in /home/cutehater/.local/lib/python3.10/site-packages (from jupyterlab) (6.2)\n",
      "Collecting tomli\n",
      "  Using cached tomli-2.0.1-py3-none-any.whl (12 kB)\n",
      "Requirement already satisfied: ipykernel in /home/cutehater/.local/lib/python3.10/site-packages (from jupyterlab) (6.21.1)\n",
      "Requirement already satisfied: traitlets in /home/cutehater/.local/lib/python3.10/site-packages (from jupyterlab) (5.9.0)\n",
      "Requirement already satisfied: notebook-shim>=0.2 in /home/cutehater/.local/lib/python3.10/site-packages (from jupyterlab) (0.2.2)\n",
      "Collecting jupyter-lsp>=2.0.0\n",
      "  Using cached jupyter_lsp-2.2.1-py3-none-any.whl (66 kB)\n",
      "Collecting optuna-dashboard\n",
      "  Downloading optuna_dashboard-0.14.0-py3-none-any.whl (5.9 MB)\n",
      "\u001b[2K     \u001b[38;2;114;156;31m━━━━━━━━━━━━━━━━━━━━━━━━━━━━━━━━━━━━━━━━\u001b[0m \u001b[32m5.9/5.9 MB\u001b[0m \u001b[31m27.7 MB/s\u001b[0m eta \u001b[36m0:00:00\u001b[0mm eta \u001b[36m0:00:01\u001b[0m0:01\u001b[0m:01\u001b[0m\n",
      "\u001b[?25hCollecting typing-extensions>=4.0.0\n",
      "  Using cached typing_extensions-4.9.0-py3-none-any.whl (32 kB)\n",
      "Requirement already satisfied: MarkupSafe>=2.0 in /home/cutehater/.local/lib/python3.10/site-packages (from jinja2>=3.0.3->jupyterlab) (2.1.2)\n",
      "Requirement already satisfied: pyzmq>=24 in /home/cutehater/.local/lib/python3.10/site-packages (from jupyter-server<3,>=2.4.0->jupyterlab) (25.0.0)\n",
      "Requirement already satisfied: anyio>=3.1.0 in /home/cutehater/.local/lib/python3.10/site-packages (from jupyter-server<3,>=2.4.0->jupyterlab) (3.6.2)\n",
      "Requirement already satisfied: jupyter-client>=7.4.4 in /home/cutehater/.local/lib/python3.10/site-packages (from jupyter-server<3,>=2.4.0->jupyterlab) (8.0.2)\n",
      "Collecting overrides\n",
      "  Using cached overrides-7.4.0-py3-none-any.whl (17 kB)\n",
      "Collecting send2trash>=1.8.2\n",
      "  Using cached Send2Trash-1.8.2-py3-none-any.whl (18 kB)\n",
      "Requirement already satisfied: nbformat>=5.3.0 in /home/cutehater/.local/lib/python3.10/site-packages (from jupyter-server<3,>=2.4.0->jupyterlab) (5.7.3)\n",
      "Requirement already satisfied: prometheus-client in /home/cutehater/.local/lib/python3.10/site-packages (from jupyter-server<3,>=2.4.0->jupyterlab) (0.16.0)\n",
      "Requirement already satisfied: nbconvert>=6.4.4 in /home/cutehater/.local/lib/python3.10/site-packages (from jupyter-server<3,>=2.4.0->jupyterlab) (7.2.9)\n",
      "Requirement already satisfied: jupyter-server-terminals in /home/cutehater/.local/lib/python3.10/site-packages (from jupyter-server<3,>=2.4.0->jupyterlab) (0.4.4)\n",
      "Collecting jupyter-events>=0.9.0\n",
      "  Using cached jupyter_events-0.9.0-py3-none-any.whl (18 kB)\n",
      "Requirement already satisfied: websocket-client in /home/cutehater/.local/lib/python3.10/site-packages (from jupyter-server<3,>=2.4.0->jupyterlab) (1.5.1)\n",
      "Requirement already satisfied: argon2-cffi in /home/cutehater/.local/lib/python3.10/site-packages (from jupyter-server<3,>=2.4.0->jupyterlab) (21.3.0)\n",
      "Requirement already satisfied: terminado>=0.8.3 in /home/cutehater/.local/lib/python3.10/site-packages (from jupyter-server<3,>=2.4.0->jupyterlab) (0.17.1)\n",
      "Requirement already satisfied: platformdirs>=2.5 in /home/cutehater/.local/lib/python3.10/site-packages (from jupyter-core->jupyterlab) (3.0.0)\n",
      "Requirement already satisfied: requests>=2.31 in /home/cutehater/.local/lib/python3.10/site-packages (from jupyterlab-server<3,>=2.19.0->jupyterlab) (2.31.0)\n",
      "Collecting jsonschema>=4.18.0\n",
      "  Using cached jsonschema-4.20.0-py3-none-any.whl (84 kB)\n",
      "Collecting babel>=2.10\n",
      "  Using cached Babel-2.14.0-py3-none-any.whl (11.0 MB)\n",
      "Collecting json5>=0.9.0\n",
      "  Using cached json5-0.9.14-py2.py3-none-any.whl (19 kB)\n",
      "Requirement already satisfied: matplotlib-inline>=0.1 in /home/cutehater/.local/lib/python3.10/site-packages (from ipykernel->jupyterlab) (0.1.6)\n",
      "Requirement already satisfied: ipython>=7.23.1 in /home/cutehater/.local/lib/python3.10/site-packages (from ipykernel->jupyterlab) (8.9.0)\n",
      "Requirement already satisfied: nest-asyncio in /home/cutehater/.local/lib/python3.10/site-packages (from ipykernel->jupyterlab) (1.5.6)\n",
      "Requirement already satisfied: debugpy>=1.6.5 in /home/cutehater/.local/lib/python3.10/site-packages (from ipykernel->jupyterlab) (1.6.6)\n",
      "Requirement already satisfied: psutil in /home/cutehater/.local/lib/python3.10/site-packages (from ipykernel->jupyterlab) (5.9.4)\n",
      "Requirement already satisfied: comm>=0.1.1 in /home/cutehater/.local/lib/python3.10/site-packages (from ipykernel->jupyterlab) (0.1.2)\n",
      "Collecting bottle\n",
      "  Downloading bottle-0.12.25-py3-none-any.whl (90 kB)\n",
      "\u001b[2K     \u001b[38;2;114;156;31m━━━━━━━━━━━━━━━━━━━━━━━━━━━━━━━━━━━━━━━━\u001b[0m \u001b[32m90.2/90.2 KB\u001b[0m \u001b[31m9.8 MB/s\u001b[0m eta \u001b[36m0:00:00\u001b[0m\n",
      "\u001b[?25hCollecting optuna>=2.4.0\n",
      "  Downloading optuna-3.5.0-py3-none-any.whl (413 kB)\n",
      "\u001b[2K     \u001b[38;2;114;156;31m━━━━━━━━━━━━━━━━━━━━━━━━━━━━━━━━━━━━━━\u001b[0m \u001b[32m413.4/413.4 KB\u001b[0m \u001b[31m27.7 MB/s\u001b[0m eta \u001b[36m0:00:00\u001b[0m\n",
      "\u001b[?25hRequirement already satisfied: scikit-learn in /home/cutehater/.local/lib/python3.10/site-packages (from optuna-dashboard->jupyterlab-optuna) (1.2.2)\n",
      "Requirement already satisfied: idna>=2.8 in /usr/lib/python3/dist-packages (from anyio>=3.1.0->jupyter-server<3,>=2.4.0->jupyterlab) (3.3)\n",
      "Requirement already satisfied: sniffio>=1.1 in /home/cutehater/.local/lib/python3.10/site-packages (from anyio>=3.1.0->jupyter-server<3,>=2.4.0->jupyterlab) (1.3.0)\n",
      "Requirement already satisfied: jedi>=0.16 in /home/cutehater/.local/lib/python3.10/site-packages (from ipython>=7.23.1->ipykernel->jupyterlab) (0.18.2)\n",
      "Requirement already satisfied: backcall in /home/cutehater/.local/lib/python3.10/site-packages (from ipython>=7.23.1->ipykernel->jupyterlab) (0.2.0)\n",
      "Requirement already satisfied: pexpect>4.3 in /usr/lib/python3/dist-packages (from ipython>=7.23.1->ipykernel->jupyterlab) (4.8.0)\n",
      "Requirement already satisfied: stack-data in /home/cutehater/.local/lib/python3.10/site-packages (from ipython>=7.23.1->ipykernel->jupyterlab) (0.6.2)\n",
      "Requirement already satisfied: pygments>=2.4.0 in /usr/lib/python3/dist-packages (from ipython>=7.23.1->ipykernel->jupyterlab) (2.11.2)\n",
      "Requirement already satisfied: prompt-toolkit<3.1.0,>=3.0.30 in /home/cutehater/.local/lib/python3.10/site-packages (from ipython>=7.23.1->ipykernel->jupyterlab) (3.0.36)\n",
      "Requirement already satisfied: decorator in /home/cutehater/.local/lib/python3.10/site-packages (from ipython>=7.23.1->ipykernel->jupyterlab) (4.4.2)\n",
      "Requirement already satisfied: pickleshare in /home/cutehater/.local/lib/python3.10/site-packages (from ipython>=7.23.1->ipykernel->jupyterlab) (0.7.5)\n",
      "Collecting referencing>=0.28.4\n",
      "  Using cached referencing-0.32.0-py3-none-any.whl (26 kB)\n",
      "Collecting jsonschema-specifications>=2023.03.6\n",
      "  Using cached jsonschema_specifications-2023.11.2-py3-none-any.whl (17 kB)\n",
      "Collecting rpds-py>=0.7.1\n",
      "  Using cached rpds_py-0.15.2-cp310-cp310-manylinux_2_17_x86_64.manylinux2014_x86_64.whl (1.2 MB)\n",
      "Requirement already satisfied: attrs>=22.2.0 in /home/cutehater/.local/lib/python3.10/site-packages (from jsonschema>=4.18.0->jupyterlab-server<3,>=2.19.0->jupyterlab) (22.2.0)\n"
     ]
    },
    {
     "name": "stdout",
     "output_type": "stream",
     "text": [
      "Requirement already satisfied: python-dateutil>=2.8.2 in /home/cutehater/.local/lib/python3.10/site-packages (from jupyter-client>=7.4.4->jupyter-server<3,>=2.4.0->jupyterlab) (2.8.2)\n",
      "Requirement already satisfied: python-json-logger>=2.0.4 in /home/cutehater/.local/lib/python3.10/site-packages (from jupyter-events>=0.9.0->jupyter-server<3,>=2.4.0->jupyterlab) (2.0.4)\n",
      "Requirement already satisfied: rfc3986-validator>=0.1.1 in /home/cutehater/.local/lib/python3.10/site-packages (from jupyter-events>=0.9.0->jupyter-server<3,>=2.4.0->jupyterlab) (0.1.1)\n",
      "Requirement already satisfied: pyyaml>=5.3 in /usr/lib/python3/dist-packages (from jupyter-events>=0.9.0->jupyter-server<3,>=2.4.0->jupyterlab) (5.4.1)\n",
      "Requirement already satisfied: rfc3339-validator in /home/cutehater/.local/lib/python3.10/site-packages (from jupyter-events>=0.9.0->jupyter-server<3,>=2.4.0->jupyterlab) (0.1.4)\n",
      "Requirement already satisfied: pandocfilters>=1.4.1 in /home/cutehater/.local/lib/python3.10/site-packages (from nbconvert>=6.4.4->jupyter-server<3,>=2.4.0->jupyterlab) (1.5.0)\n",
      "Requirement already satisfied: bleach in /home/cutehater/.local/lib/python3.10/site-packages (from nbconvert>=6.4.4->jupyter-server<3,>=2.4.0->jupyterlab) (6.0.0)\n",
      "Requirement already satisfied: nbclient>=0.5.0 in /home/cutehater/.local/lib/python3.10/site-packages (from nbconvert>=6.4.4->jupyter-server<3,>=2.4.0->jupyterlab) (0.7.2)\n",
      "Requirement already satisfied: mistune<3,>=2.0.3 in /home/cutehater/.local/lib/python3.10/site-packages (from nbconvert>=6.4.4->jupyter-server<3,>=2.4.0->jupyterlab) (2.0.5)\n",
      "Requirement already satisfied: tinycss2 in /home/cutehater/.local/lib/python3.10/site-packages (from nbconvert>=6.4.4->jupyter-server<3,>=2.4.0->jupyterlab) (1.2.1)\n",
      "Requirement already satisfied: defusedxml in /home/cutehater/.local/lib/python3.10/site-packages (from nbconvert>=6.4.4->jupyter-server<3,>=2.4.0->jupyterlab) (0.7.1)\n",
      "Requirement already satisfied: beautifulsoup4 in /home/cutehater/.local/lib/python3.10/site-packages (from nbconvert>=6.4.4->jupyter-server<3,>=2.4.0->jupyterlab) (4.11.1)\n",
      "Requirement already satisfied: jupyterlab-pygments in /home/cutehater/.local/lib/python3.10/site-packages (from nbconvert>=6.4.4->jupyter-server<3,>=2.4.0->jupyterlab) (0.2.2)\n",
      "Requirement already satisfied: fastjsonschema in /home/cutehater/.local/lib/python3.10/site-packages (from nbformat>=5.3.0->jupyter-server<3,>=2.4.0->jupyterlab) (2.16.2)\n",
      "Collecting colorlog\n",
      "  Downloading colorlog-6.8.0-py3-none-any.whl (11 kB)\n",
      "Requirement already satisfied: tqdm in /home/cutehater/.local/lib/python3.10/site-packages (from optuna>=2.4.0->optuna-dashboard->jupyterlab-optuna) (4.64.1)\n",
      "Collecting alembic>=1.5.0\n",
      "  Downloading alembic-1.13.0-py3-none-any.whl (230 kB)\n",
      "\u001b[2K     \u001b[38;2;114;156;31m━━━━━━━━━━━━━━━━━━━━━━━━━━━━━━━━━━━━━━\u001b[0m \u001b[32m230.6/230.6 KB\u001b[0m \u001b[31m11.0 MB/s\u001b[0m eta \u001b[36m0:00:00\u001b[0m\n",
      "\u001b[?25hCollecting sqlalchemy>=1.3.0\n",
      "  Downloading SQLAlchemy-2.0.23-cp310-cp310-manylinux_2_17_x86_64.manylinux2014_x86_64.whl (3.0 MB)\n",
      "\u001b[2K     \u001b[38;2;114;156;31m━━━━━━━━━━━━━━━━━━━━━━━━━━━━━━━━━━━━━━━━\u001b[0m \u001b[32m3.0/3.0 MB\u001b[0m \u001b[31m26.6 MB/s\u001b[0m eta \u001b[36m0:00:00\u001b[0mm eta \u001b[36m0:00:01\u001b[0m[36m0:00:01\u001b[0m\n",
      "\u001b[?25hRequirement already satisfied: numpy in /home/cutehater/.local/lib/python3.10/site-packages (from optuna>=2.4.0->optuna-dashboard->jupyterlab-optuna) (1.24.2)\n",
      "Requirement already satisfied: urllib3<3,>=1.21.1 in /usr/lib/python3/dist-packages (from requests>=2.31->jupyterlab-server<3,>=2.19.0->jupyterlab) (1.26.5)\n",
      "Requirement already satisfied: certifi>=2017.4.17 in /usr/lib/python3/dist-packages (from requests>=2.31->jupyterlab-server<3,>=2.19.0->jupyterlab) (2020.6.20)\n",
      "Requirement already satisfied: charset-normalizer<4,>=2 in /home/cutehater/.local/lib/python3.10/site-packages (from requests>=2.31->jupyterlab-server<3,>=2.19.0->jupyterlab) (3.1.0)\n",
      "Requirement already satisfied: ptyprocess in /usr/lib/python3/dist-packages (from terminado>=0.8.3->jupyter-server<3,>=2.4.0->jupyterlab) (0.7.0)\n",
      "Requirement already satisfied: argon2-cffi-bindings in /home/cutehater/.local/lib/python3.10/site-packages (from argon2-cffi->jupyter-server<3,>=2.4.0->jupyterlab) (21.2.0)\n",
      "Requirement already satisfied: threadpoolctl>=2.0.0 in /home/cutehater/.local/lib/python3.10/site-packages (from scikit-learn->optuna-dashboard->jupyterlab-optuna) (3.1.0)\n",
      "Requirement already satisfied: joblib>=1.1.1 in /home/cutehater/.local/lib/python3.10/site-packages (from scikit-learn->optuna-dashboard->jupyterlab-optuna) (1.2.0)\n",
      "Requirement already satisfied: scipy>=1.3.2 in /home/cutehater/.local/lib/python3.10/site-packages (from scikit-learn->optuna-dashboard->jupyterlab-optuna) (1.10.0)\n",
      "Collecting Mako\n",
      "  Downloading Mako-1.3.0-py3-none-any.whl (78 kB)\n",
      "\u001b[2K     \u001b[38;2;114;156;31m━━━━━━━━━━━━━━━━━━━━━━━━━━━━━━━━━━━━━━━━\u001b[0m \u001b[32m78.6/78.6 KB\u001b[0m \u001b[31m8.0 MB/s\u001b[0m eta \u001b[36m0:00:00\u001b[0m\n",
      "\u001b[?25hRequirement already satisfied: parso<0.9.0,>=0.8.0 in /home/cutehater/.local/lib/python3.10/site-packages (from jedi>=0.16->ipython>=7.23.1->ipykernel->jupyterlab) (0.8.3)\n",
      "Requirement already satisfied: webcolors>=1.11 in /home/cutehater/.local/lib/python3.10/site-packages (from jsonschema>=4.18.0->jupyterlab-server<3,>=2.19.0->jupyterlab) (1.12)\n",
      "Requirement already satisfied: jsonpointer>1.13 in /home/cutehater/.local/lib/python3.10/site-packages (from jsonschema>=4.18.0->jupyterlab-server<3,>=2.19.0->jupyterlab) (2.3)\n",
      "Requirement already satisfied: fqdn in /home/cutehater/.local/lib/python3.10/site-packages (from jsonschema>=4.18.0->jupyterlab-server<3,>=2.19.0->jupyterlab) (1.5.1)\n",
      "Requirement already satisfied: uri-template in /home/cutehater/.local/lib/python3.10/site-packages (from jsonschema>=4.18.0->jupyterlab-server<3,>=2.19.0->jupyterlab) (1.2.0)\n",
      "Requirement already satisfied: isoduration in /home/cutehater/.local/lib/python3.10/site-packages (from jsonschema>=4.18.0->jupyterlab-server<3,>=2.19.0->jupyterlab) (20.11.0)\n",
      "Requirement already satisfied: wcwidth in /home/cutehater/.local/lib/python3.10/site-packages (from prompt-toolkit<3.1.0,>=3.0.30->ipython>=7.23.1->ipykernel->jupyterlab) (0.2.6)\n",
      "Requirement already satisfied: six>=1.5 in /usr/lib/python3/dist-packages (from python-dateutil>=2.8.2->jupyter-client>=7.4.4->jupyter-server<3,>=2.4.0->jupyterlab) (1.16.0)\n",
      "Collecting greenlet!=0.4.17\n",
      "  Downloading greenlet-3.0.2-cp310-cp310-manylinux_2_24_x86_64.manylinux_2_28_x86_64.whl (613 kB)\n",
      "\u001b[2K     \u001b[38;2;114;156;31m━━━━━━━━━━━━━━━━━━━━━━━━━━━━━━━━━━━━━━\u001b[0m \u001b[32m613.4/613.4 KB\u001b[0m \u001b[31m15.8 MB/s\u001b[0m eta \u001b[36m0:00:00\u001b[0m[36m0:00:01\u001b[0m\n",
      "\u001b[?25hRequirement already satisfied: cffi>=1.0.1 in /home/cutehater/.local/lib/python3.10/site-packages (from argon2-cffi-bindings->argon2-cffi->jupyter-server<3,>=2.4.0->jupyterlab) (1.15.1)\n",
      "Requirement already satisfied: soupsieve>1.2 in /home/cutehater/.local/lib/python3.10/site-packages (from beautifulsoup4->nbconvert>=6.4.4->jupyter-server<3,>=2.4.0->jupyterlab) (2.3.2.post1)\n",
      "Requirement already satisfied: webencodings in /home/cutehater/.local/lib/python3.10/site-packages (from bleach->nbconvert>=6.4.4->jupyter-server<3,>=2.4.0->jupyterlab) (0.5.1)\n",
      "Requirement already satisfied: asttokens>=2.1.0 in /home/cutehater/.local/lib/python3.10/site-packages (from stack-data->ipython>=7.23.1->ipykernel->jupyterlab) (2.2.1)\n",
      "Requirement already satisfied: executing>=1.2.0 in /home/cutehater/.local/lib/python3.10/site-packages (from stack-data->ipython>=7.23.1->ipykernel->jupyterlab) (1.2.0)\n",
      "Requirement already satisfied: pure-eval in /home/cutehater/.local/lib/python3.10/site-packages (from stack-data->ipython>=7.23.1->ipykernel->jupyterlab) (0.2.2)\n",
      "Requirement already satisfied: pycparser in /home/cutehater/.local/lib/python3.10/site-packages (from cffi>=1.0.1->argon2-cffi-bindings->argon2-cffi->jupyter-server<3,>=2.4.0->jupyterlab) (2.21)\n",
      "Requirement already satisfied: arrow>=0.15.0 in /home/cutehater/.local/lib/python3.10/site-packages (from isoduration->jsonschema>=4.18.0->jupyterlab-server<3,>=2.19.0->jupyterlab) (1.2.3)\n",
      "Building wheels for collected packages: jupyterlab-optuna\n",
      "  Building wheel for jupyterlab-optuna (pyproject.toml) ... \u001b[?25ldone\n",
      "\u001b[?25h  Created wheel for jupyterlab-optuna: filename=jupyterlab_optuna-0.1.0-py3-none-any.whl size=3607983 sha256=04279329871635fe0b4544c495c55f9bbef31bc18f766178b6ac68c8bf51952b\n",
      "  Stored in directory: /home/cutehater/.cache/pip/wheels/9a/9b/ca/eb4257d7ea94f5c94b3117fd9c2cb01076558ec93990308073\n",
      "Successfully built jupyterlab-optuna\n"
     ]
    },
    {
     "name": "stdout",
     "output_type": "stream",
     "text": [
      "Installing collected packages: json5, bottle, typing-extensions, tomli, send2trash, rpds-py, overrides, Mako, greenlet, colorlog, babel, sqlalchemy, referencing, async-lru, jsonschema-specifications, alembic, optuna, jsonschema, optuna-dashboard, jupyter-events, jupyter-server, jupyterlab-server, jupyterlab-optuna, jupyter-lsp, jupyterlab\n",
      "  Attempting uninstall: send2trash\n",
      "    Found existing installation: Send2Trash 1.8.0\n",
      "    Uninstalling Send2Trash-1.8.0:\n",
      "      Successfully uninstalled Send2Trash-1.8.0\n",
      "  Attempting uninstall: jsonschema\n",
      "    Found existing installation: jsonschema 4.17.3\n",
      "    Uninstalling jsonschema-4.17.3:\n",
      "      Successfully uninstalled jsonschema-4.17.3\n",
      "  Attempting uninstall: jupyter-events\n",
      "    Found existing installation: jupyter-events 0.6.3\n",
      "    Uninstalling jupyter-events-0.6.3:\n",
      "      Successfully uninstalled jupyter-events-0.6.3\n",
      "  Attempting uninstall: jupyter-server\n",
      "    Found existing installation: jupyter_server 2.2.1\n",
      "    Uninstalling jupyter_server-2.2.1:\n",
      "      Successfully uninstalled jupyter_server-2.2.1\n",
      "Successfully installed Mako-1.3.0 alembic-1.13.0 async-lru-2.0.4 babel-2.14.0 bottle-0.12.25 colorlog-6.8.0 greenlet-3.0.2 json5-0.9.14 jsonschema-4.20.0 jsonschema-specifications-2023.11.2 jupyter-events-0.9.0 jupyter-lsp-2.2.1 jupyter-server-2.12.1 jupyterlab-4.0.9 jupyterlab-optuna-0.1.0 jupyterlab-server-2.25.2 optuna-3.5.0 optuna-dashboard-0.14.0 overrides-7.4.0 referencing-0.32.0 rpds-py-0.15.2 send2trash-1.8.2 sqlalchemy-2.0.23 tomli-2.0.1 typing-extensions-4.9.0\n",
      "Note: you may need to restart the kernel to use updated packages.\n"
     ]
    }
   ],
   "source": [
    "%pip install jupyterlab jupyterlab-optuna"
   ]
  },
  {
   "cell_type": "code",
   "execution_count": 14,
   "metadata": {},
   "outputs": [],
   "source": [
    "import optuna\n",
    "import logging\n",
    "optuna.logging.set_verbosity(optuna.logging.WARNING) #off INFO optuna logs set by default\n",
    "\n",
    "boosting = Boosting()\n",
    "boosting.tune_hyperparameters(x_train, y_train, x_valid, y_valid)\n",
    "boosting.fit(x_train, y_train, x_valid, y_valid)"
   ]
  },
  {
   "cell_type": "code",
   "execution_count": 15,
   "metadata": {},
   "outputs": [
    {
     "name": "stdout",
     "output_type": "stream",
     "text": [
      "Best base_model_params: {'max_depth': 5, 'min_samples_split': 11, 'min_samples_leaf': 8}\n",
      "Best n_estimators: 3\n",
      "Best learning_rate: 0.13645335093212252\n",
      "Best subsample: 0.9130893505107329\n",
      "Train ROC-AUC 0.9619\n",
      "Valid ROC-AUC 0.9326\n",
      "Test ROC-AUC 0.9301\n"
     ]
    }
   ],
   "source": [
    "print(f'Best base_model_params: {boosting.base_model_params}')\n",
    "print(f'Best n_estimators: {boosting.n_estimators}')\n",
    "print(f'Best learning_rate: {boosting.learning_rate}')\n",
    "print(f'Best subsample: {boosting.subsample}')\n",
    "\n",
    "print(f'Train ROC-AUC {boosting.score(x_train, y_train):.4f}')\n",
    "print(f'Valid ROC-AUC {boosting.score(x_valid, y_valid):.4f}')\n",
    "print(f'Test ROC-AUC {boosting.score(x_test, y_test):.4f}')"
   ]
  },
  {
   "cell_type": "markdown",
   "metadata": {
    "pycharm": {
     "name": "#%% md\n"
    }
   },
   "source": [
    "## Задание 4. Интерпретация бустингового (2 балл)\n",
    "\n",
    "Постройте калибровочную кривую для вашей лучшей модели бустинга. Насколько хорошо бустинг оценивает вероятности? Постройте также калибровочную кривую для логистической регрессии, сравните их между собой. Проанализируйте полученные результаты."
   ]
  },
  {
   "cell_type": "code",
   "execution_count": 28,
   "metadata": {
    "pycharm": {
     "name": "#%%\n"
    }
   },
   "outputs": [],
   "source": [
    "from sklearn.calibration import calibration_curve\n",
    "from sklearn.linear_model import LogisticRegression\n",
    "\n",
    "logreg = LogisticRegression()\n",
    "logreg.fit(x_train, y_train)\n",
    "\n",
    "y_prob_boosting = boosting.predict_proba(x_test)[:, 1]\n",
    "y_prob_logreg = logreg.predict_proba(x_test)[:, 1]\n",
    "\n",
    "prob_true_boosting, prob_pred_boosting = calibration_curve(y_test, y_prob_boosting, n_bins=8)\n",
    "prob_true_logreg, prob_pred_logreg = calibration_curve(y_test, y_prob_logreg, n_bins=8)"
   ]
  },
  {
   "cell_type": "code",
   "execution_count": 29,
   "metadata": {},
   "outputs": [
    {
     "data": {
      "image/png": "[encoded data removed]",
      "text/plain": [
       "<Figure size 800x800 with 1 Axes>"
      ]
     },
     "metadata": {},
     "output_type": "display_data"
    }
   ],
   "source": [
    "plt.figure(figsize=(8, 8))\n",
    "\n",
    "plt.plot(prob_pred_boosting, prob_true_boosting, color='r', label='Boosting')\n",
    "plt.plot(prob_pred_logreg, prob_true_logreg, color='g', label='Logistic regression')\n",
    "plt.plot([0, 1], [0, 1], linestyle='--', color='b', label='Perfect')\n",
    "\n",
    "plt.xlabel('Mean probability')\n",
    "plt.ylabel('Positive fraction')\n",
    "plt.title('Calibration curves for boosting and logistic regression')\n",
    "plt.legend()\n",
    "plt.show()"
   ]
  },
  {
   "cell_type": "markdown",
   "metadata": {},
   "source": [
    "Получилось, что бустинг немного хуже оценивает вероятности: калибровочная кривая у него менее сглажена и приближена к идеальной, чем у логистической регрессии. "
   ]
  },
  {
   "cell_type": "markdown",
   "metadata": {
    "pycharm": {
     "name": "#%% md\n"
    }
   },
   "source": [
    "Теперь попробуем оценить важность признаков для бустинга.\n",
    "\n",
    "Поскольку наша базовая модель - это дерево из `sklearn`, мы можем вычислить важность признака отдельно для каждого дерева и усреднить (воспользуйтесь `feature_importances_` у `DecisionTreeRegressor`), после этого нормировать значения, чтобы они суммировались в единицу (обратите внимание, что они должны быть неотрицательными - иначе вы что-то сделали не так).\n",
    "\n",
    "Допишите в вашей реализации бустинга функцию `feature_importances_` чтобы она возвращала описанные выше важности признаков.\n",
    "\n",
    "Нарисуйте столбчатую диаграмму важности признаков. На соседнем графике нарисуйте важность признаков для логистической регрессии, для этого используйте модули весов. Сравните графики. Проанализируйте полученные результаты."
   ]
  },
  {
   "cell_type": "code",
   "execution_count": 37,
   "metadata": {
    "pycharm": {
     "name": "#%%\n"
    }
   },
   "outputs": [
    {
     "data": {
      "image/png": "[encoded data removed]",
      "text/plain": [
       "<Figure size 1200x600 with 2 Axes>"
      ]
     },
     "metadata": {},
     "output_type": "display_data"
    }
   ],
   "source": [
    "plt.figure(figsize=(12, 6))\n",
    "plt.subplot(1, 2, 1)  \n",
    "\n",
    "sns.barplot(boosting.feature_importances_, edgecolor='black')\n",
    "plt.title('Boosting features importances')\n",
    "plt.xlabel('Feature number')\n",
    "plt.ylabel('Feature importance')\n",
    "num_ticks = 10\n",
    "indices = np.arange(0, len(boosting.feature_importances_), len(boosting.feature_importances_) // num_ticks)\n",
    "plt.xticks(indices, indices)\n",
    "\n",
    "plt.subplot(1, 2, 2)\n",
    "w_logreg = np.absolute(logreg.coef_)\n",
    "sns.barplot(w_logreg / np.sum(w_logreg), edgecolor='black')\n",
    "plt.title('Logistic regression features importances')\n",
    "plt.xlabel('Feature number')\n",
    "plt.ylabel('Feature importance')\n",
    "plt.xticks(indices, indices)\n",
    "\n",
    "plt.tight_layout()\n",
    "plt.show()"
   ]
  },
  {
   "cell_type": "markdown",
   "metadata": {},
   "source": [
    "В бустинге есть всего парочка очень важных для модели признаков, несколько чуть-чуть важных и большинство \"шумовых\", в то время как в логистической регрессии веса распределены более равномерно. Думаю, так происходит, потому что в логреге есть регуляризация, которая штрафует модель за слишком большие модули весов, в то время как бустинг более \"свободен\" определять важности весов. Кроме того, в текущих базовых моделях бустинга у нас есть ограничение по глубине дерева, а в одной вершине мы делаем разделение лишь по одному признаку, поэтому некоторые признаки могут и вовсе не участвовать в разделении."
   ]
  },
  {
   "cell_type": "markdown",
   "metadata": {
    "pycharm": {
     "name": "#%% md\n"
    }
   },
   "source": [
    "Кстати, чаще всего излишние признаки могут вредить качеству бустинга. Попробуйте отфильтровать на основании диаграммы хвост наименее важных признаков и снова обучить модель (с теми же гиперпараметрами). Стало ли лучше?"
   ]
  },
  {
   "cell_type": "markdown",
   "metadata": {},
   "source": [
    "Сначала попробуем взять все хоть немного видные на графике параметры (то есть с важностью порядка $e^{-2}$ и выше); потом попробуем оставить только совсем хвост самых важных на графике параметров."
   ]
  },
  {
   "cell_type": "code",
   "execution_count": 45,
   "metadata": {
    "pycharm": {
     "name": "#%%\n"
    }
   },
   "outputs": [],
   "source": [
    "best_base_model_params = boosting.base_model_params\n",
    "best_n_estimators = boosting.n_estimators\n",
    "best_learning_rate = boosting.learning_rate\n",
    "best_subsample = boosting.subsample"
   ]
  },
  {
   "cell_type": "code",
   "execution_count": 53,
   "metadata": {},
   "outputs": [],
   "source": [
    "important_first = [36]\n",
    "important_first.extend(list(range(142, len(boosting.feature_importances_))))\n",
    "\n",
    "important_second = list(range(164, len(boosting.feature_importances_)))"
   ]
  },
  {
   "cell_type": "code",
   "execution_count": 56,
   "metadata": {},
   "outputs": [
    {
     "name": "stdout",
     "output_type": "stream",
     "text": [
      "Train ROC-AUC 0.9446\n",
      "Valid ROC-AUC 0.9220\n",
      "Test ROC-AUC 0.9151\n"
     ]
    }
   ],
   "source": [
    "boosting = Boosting(base_model_params=best_base_model_params, n_estimators=best_n_estimators, \n",
    "                    learning_rate = best_learning_rate, subsample=best_subsample)\n",
    "boosting.fit(x_train[:, important_first], y_train, x_valid[:, important_first], y_valid)\n",
    "\n",
    "print(f'Train ROC-AUC {boosting.score(x_train[:, important_first], y_train):.4f}')\n",
    "print(f'Valid ROC-AUC {boosting.score(x_valid[:, important_first], y_valid):.4f}')\n",
    "print(f'Test ROC-AUC {boosting.score(x_test[:, important_first], y_test):.4f}')"
   ]
  },
  {
   "cell_type": "code",
   "execution_count": 57,
   "metadata": {},
   "outputs": [
    {
     "name": "stdout",
     "output_type": "stream",
     "text": [
      "Train ROC-AUC 0.9436\n",
      "Valid ROC-AUC 0.9188\n",
      "Test ROC-AUC 0.9176\n"
     ]
    }
   ],
   "source": [
    "boosting = Boosting(base_model_params=best_base_model_params, n_estimators=best_n_estimators, \n",
    "                    learning_rate = best_learning_rate, subsample=best_subsample)\n",
    "boosting.fit(x_train[:, important_second], y_train, x_valid[:, important_second], y_valid)\n",
    "\n",
    "print(f'Train ROC-AUC {boosting.score(x_train[:, important_second], y_train):.4f}')\n",
    "print(f'Valid ROC-AUC {boosting.score(x_valid[:, important_second], y_valid):.4f}')\n",
    "print(f'Test ROC-AUC {boosting.score(x_test[:, important_second], y_test):.4f}')"
   ]
  },
  {
   "cell_type": "markdown",
   "metadata": {},
   "source": [
    "В обоих случаях качество на тестовой выборке немного ухудшилось; возможно, после очистки признаков следует подбирать гиперпараметры заново, чтобы добиться лучшего качества."
   ]
  },
  {
   "cell_type": "markdown",
   "metadata": {
    "pycharm": {
     "name": "#%% md\n"
    }
   },
   "source": [
    "## Задание 5 (бонус). Блендинговое (1 балл)\n",
    "\n",
    "Реализуйте блендинг над вашей лучшей моделью и логистической регрессией. Улучшилось ли качество?"
   ]
  },
  {
   "cell_type": "code",
   "execution_count": 61,
   "metadata": {
    "pycharm": {
     "name": "#%%\n"
    }
   },
   "outputs": [
    {
     "name": "stdout",
     "output_type": "stream",
     "text": [
      "Valid ROC-AUC 0.9433\n",
      "Test ROC-AUC 0.9391\n"
     ]
    }
   ],
   "source": [
    "from sklearn.metrics import roc_auc_score\n",
    "\n",
    "boosting = Boosting(base_model_params=best_base_model_params, n_estimators=best_n_estimators, \n",
    "                    learning_rate = best_learning_rate, subsample=best_subsample)\n",
    "boosting.fit(x_train, y_train, x_valid, y_valid)\n",
    "\n",
    "pred_boosting_valid = boosting.predict_proba(x_valid)[:, 1]\n",
    "pred_logreg_valid = logreg.predict_proba(x_valid)[:, 1]\n",
    "pred_boosting_test = boosting.predict_proba(x_test)[:, 1]\n",
    "pred_logreg_test = logreg.predict_proba(x_test)[:, 1]\n",
    "\n",
    "blend_pred_valid = (pred_boosting_valid + pred_logreg_valid) / 2\n",
    "blend_pred_test = (pred_boosting_test + pred_logreg_test) / 2\n",
    "\n",
    "print(f'Valid ROC-AUC {roc_auc_score(y_valid, blend_pred_valid):.4f}')\n",
    "print(f'Test ROC-AUC {roc_auc_score(y_test, blend_pred_test):.4f}')"
   ]
  },
  {
   "cell_type": "code",
   "execution_count": 62,
   "metadata": {},
   "outputs": [
    {
     "name": "stdout",
     "output_type": "stream",
     "text": [
      "Valid ROC-AUC 0.9420\n",
      "Test ROC-AUC 0.9379\n"
     ]
    }
   ],
   "source": [
    "print(f'Valid ROC-AUC {roc_auc_score(y_valid, pred_logreg_valid):.4f}')\n",
    "print(f'Test ROC-AUC {roc_auc_score(y_test, pred_logreg_test):.4f}')"
   ]
  },
  {
   "cell_type": "markdown",
   "metadata": {},
   "source": [
    "Ну кстати! Удалось добиться небольшого улучшения на тесте по сравнению с обоими отдельными моделями, даже в самой простой вариации блендинга. Давайте попробуем ещё поперебирать веса, с которыми брать модельки, на валидационной выборке."
   ]
  },
  {
   "cell_type": "code",
   "execution_count": 64,
   "metadata": {},
   "outputs": [
    {
     "name": "stdout",
     "output_type": "stream",
     "text": [
      "Best weights: 0.6500 for boosting, 0.3500 for logistic regression\n",
      "Valid ROC-AUC 0.9436\n",
      "Test ROC-AUC 0.9394\n"
     ]
    }
   ],
   "source": [
    "fraction = 100\n",
    "\n",
    "best_valid_fraction = 1\n",
    "best_valid_score = 0\n",
    "\n",
    "for i in range(1, fraction):\n",
    "    blend_pred_valid = (pred_boosting_valid * i + pred_logreg_valid * (fraction - i)) / fraction\n",
    "\n",
    "    if (roc_auc_score(y_valid, blend_pred_valid) > best_valid_score):\n",
    "        best_valid_score = roc_auc_score(y_valid, blend_pred_valid)\n",
    "        best_valid_fraction = i\n",
    "        \n",
    "print(f'Best weights: {(best_valid_fraction / fraction):.4f} for boosting, {((fraction - best_valid_fraction) / fraction):.4f} for logistic regression')\n",
    "print(f'Valid ROC-AUC {best_valid_score:.4f}')\n",
    "print(f'Test ROC-AUC {roc_auc_score(y_test, (pred_boosting_test * best_valid_fraction + pred_logreg_test * (fraction - best_valid_fraction)) / fraction):.4f}')"
   ]
  },
  {
   "cell_type": "markdown",
   "metadata": {},
   "source": [
    "Ну не сильно лучше стало, конечно (но всё-таки чуть чуть стало!), но проверить было интересно."
   ]
  },
  {
   "cell_type": "markdown",
   "metadata": {
    "pycharm": {
     "name": "#%% md\n"
    }
   },
   "source": [
    "## Задание 6 (бонус). Катбустовое (1 балл)\n",
    "\n",
    "Запустите [CatBoost](https://catboost.ai/en/docs/concepts/python-quickstart) на наших данных, сравните с вашей реализацией. Где получилось лучше?"
   ]
  },
  {
   "cell_type": "code",
   "execution_count": 65,
   "metadata": {
    "pycharm": {
     "name": "#%%\n"
    }
   },
   "outputs": [
    {
     "name": "stdout",
     "output_type": "stream",
     "text": [
      "Defaulting to user installation because normal site-packages is not writeable\n",
      "Collecting catboost\n",
      "  Downloading catboost-1.2.2-cp310-cp310-manylinux2014_x86_64.whl (98.7 MB)\n",
      "\u001b[2K     \u001b[38;2;114;156;31m━━━━━━━━━━━━━━━━━━━━━━━━━━━━━━━━━━━━━━━━\u001b[0m \u001b[32m98.7/98.7 MB\u001b[0m \u001b[31m8.2 MB/s\u001b[0m eta \u001b[36m0:00:00\u001b[0m0m eta \u001b[36m0:00:01\u001b[0m[36m0:00:01\u001b[0m\n",
      "\u001b[?25hRequirement already satisfied: pandas>=0.24 in /home/cutehater/.local/lib/python3.10/site-packages (from catboost) (2.0.1)\n",
      "Requirement already satisfied: matplotlib in /home/cutehater/.local/lib/python3.10/site-packages (from catboost) (3.6.3)\n",
      "Requirement already satisfied: six in /usr/lib/python3/dist-packages (from catboost) (1.16.0)\n",
      "Requirement already satisfied: scipy in /home/cutehater/.local/lib/python3.10/site-packages (from catboost) (1.10.0)\n",
      "Collecting graphviz\n",
      "  Downloading graphviz-0.20.1-py3-none-any.whl (47 kB)\n",
      "\u001b[2K     \u001b[38;2;114;156;31m━━━━━━━━━━━━━━━━━━━━━━━━━━━━━━━━━━━━━━━━\u001b[0m \u001b[32m47.0/47.0 KB\u001b[0m \u001b[31m3.0 MB/s\u001b[0m eta \u001b[36m0:00:00\u001b[0m\n",
      "\u001b[?25hCollecting plotly\n",
      "  Downloading plotly-5.18.0-py3-none-any.whl (15.6 MB)\n",
      "\u001b[2K     \u001b[38;2;114;156;31m━━━━━━━━━━━━━━━━━━━━━━━━━━━━━━━━━━━━━━━━\u001b[0m \u001b[32m15.6/15.6 MB\u001b[0m \u001b[31m11.8 MB/s\u001b[0m eta \u001b[36m0:00:00\u001b[0mm eta \u001b[36m0:00:01\u001b[0m[36m0:00:01\u001b[0m\n",
      "\u001b[?25hRequirement already satisfied: numpy>=1.16.0 in /home/cutehater/.local/lib/python3.10/site-packages (from catboost) (1.24.2)\n",
      "Requirement already satisfied: python-dateutil>=2.8.2 in /home/cutehater/.local/lib/python3.10/site-packages (from pandas>=0.24->catboost) (2.8.2)\n",
      "Requirement already satisfied: pytz>=2020.1 in /usr/lib/python3/dist-packages (from pandas>=0.24->catboost) (2022.1)\n",
      "Requirement already satisfied: tzdata>=2022.1 in /home/cutehater/.local/lib/python3.10/site-packages (from pandas>=0.24->catboost) (2023.3)\n",
      "Requirement already satisfied: pyparsing>=2.2.1 in /usr/lib/python3/dist-packages (from matplotlib->catboost) (2.4.7)\n",
      "Requirement already satisfied: fonttools>=4.22.0 in /home/cutehater/.local/lib/python3.10/site-packages (from matplotlib->catboost) (4.38.0)\n",
      "Requirement already satisfied: packaging>=20.0 in /home/cutehater/.local/lib/python3.10/site-packages (from matplotlib->catboost) (23.0)\n",
      "Requirement already satisfied: kiwisolver>=1.0.1 in /home/cutehater/.local/lib/python3.10/site-packages (from matplotlib->catboost) (1.4.4)\n",
      "Requirement already satisfied: pillow>=6.2.0 in /usr/lib/python3/dist-packages (from matplotlib->catboost) (9.0.1)\n",
      "Requirement already satisfied: contourpy>=1.0.1 in /home/cutehater/.local/lib/python3.10/site-packages (from matplotlib->catboost) (1.0.7)\n",
      "Requirement already satisfied: cycler>=0.10 in /home/cutehater/.local/lib/python3.10/site-packages (from matplotlib->catboost) (0.11.0)\n",
      "Collecting tenacity>=6.2.0\n",
      "  Downloading tenacity-8.2.3-py3-none-any.whl (24 kB)\n",
      "Installing collected packages: tenacity, graphviz, plotly, catboost\n",
      "Successfully installed catboost-1.2.2 graphviz-0.20.1 plotly-5.18.0 tenacity-8.2.3\n",
      "Note: you may need to restart the kernel to use updated packages.\n"
     ]
    }
   ],
   "source": [
    "pip install catboost"
   ]
  },
  {
   "cell_type": "code",
   "execution_count": 67,
   "metadata": {},
   "outputs": [
    {
     "name": "stdout",
     "output_type": "stream",
     "text": [
      "Learning rate set to 0.036078\n",
      "0:\tlearn: 0.6491461\ttotal: 5.03ms\tremaining: 5.02s\n",
      "1:\tlearn: 0.6106101\ttotal: 9.22ms\tremaining: 4.6s\n",
      "2:\tlearn: 0.5804629\ttotal: 13.7ms\tremaining: 4.54s\n",
      "3:\tlearn: 0.5522560\ttotal: 18.5ms\tremaining: 4.61s\n",
      "4:\tlearn: 0.5262195\ttotal: 23.3ms\tremaining: 4.64s\n",
      "5:\tlearn: 0.5008076\ttotal: 28.1ms\tremaining: 4.65s\n",
      "6:\tlearn: 0.4812964\ttotal: 32.1ms\tremaining: 4.56s\n",
      "7:\tlearn: 0.4620364\ttotal: 37.1ms\tremaining: 4.6s\n",
      "8:\tlearn: 0.4461814\ttotal: 41.5ms\tremaining: 4.57s\n",
      "9:\tlearn: 0.4303349\ttotal: 46ms\tremaining: 4.55s\n",
      "10:\tlearn: 0.4142073\ttotal: 50.7ms\tremaining: 4.56s\n",
      "11:\tlearn: 0.4011999\ttotal: 54.5ms\tremaining: 4.48s\n",
      "12:\tlearn: 0.3907486\ttotal: 58.5ms\tremaining: 4.44s\n",
      "13:\tlearn: 0.3808040\ttotal: 62.4ms\tremaining: 4.4s\n",
      "14:\tlearn: 0.3710193\ttotal: 66.1ms\tremaining: 4.34s\n",
      "15:\tlearn: 0.3641415\ttotal: 69.9ms\tremaining: 4.3s\n",
      "16:\tlearn: 0.3554514\ttotal: 73.8ms\tremaining: 4.27s\n",
      "17:\tlearn: 0.3492319\ttotal: 77.5ms\tremaining: 4.23s\n",
      "18:\tlearn: 0.3419545\ttotal: 81.2ms\tremaining: 4.19s\n",
      "19:\tlearn: 0.3378271\ttotal: 84.9ms\tremaining: 4.16s\n",
      "20:\tlearn: 0.3330131\ttotal: 88.5ms\tremaining: 4.13s\n",
      "21:\tlearn: 0.3283114\ttotal: 92.1ms\tremaining: 4.09s\n",
      "22:\tlearn: 0.3239311\ttotal: 95.7ms\tremaining: 4.07s\n",
      "23:\tlearn: 0.3201538\ttotal: 99.7ms\tremaining: 4.05s\n",
      "24:\tlearn: 0.3157882\ttotal: 103ms\tremaining: 4.03s\n",
      "25:\tlearn: 0.3126069\ttotal: 107ms\tremaining: 4.01s\n",
      "26:\tlearn: 0.3092978\ttotal: 111ms\tremaining: 3.99s\n",
      "27:\tlearn: 0.3057002\ttotal: 114ms\tremaining: 3.97s\n",
      "28:\tlearn: 0.3022073\ttotal: 118ms\tremaining: 3.95s\n",
      "29:\tlearn: 0.2991090\ttotal: 122ms\tremaining: 3.93s\n",
      "30:\tlearn: 0.2959411\ttotal: 125ms\tremaining: 3.92s\n",
      "31:\tlearn: 0.2933313\ttotal: 129ms\tremaining: 3.9s\n",
      "32:\tlearn: 0.2905582\ttotal: 133ms\tremaining: 3.89s\n",
      "33:\tlearn: 0.2879579\ttotal: 137ms\tremaining: 3.9s\n",
      "34:\tlearn: 0.2855463\ttotal: 141ms\tremaining: 3.89s\n",
      "35:\tlearn: 0.2836844\ttotal: 145ms\tremaining: 3.88s\n",
      "36:\tlearn: 0.2817867\ttotal: 149ms\tremaining: 3.87s\n",
      "37:\tlearn: 0.2802803\ttotal: 152ms\tremaining: 3.85s\n",
      "38:\tlearn: 0.2789353\ttotal: 156ms\tremaining: 3.84s\n",
      "39:\tlearn: 0.2775255\ttotal: 159ms\tremaining: 3.83s\n",
      "40:\tlearn: 0.2758793\ttotal: 163ms\tremaining: 3.81s\n",
      "41:\tlearn: 0.2738899\ttotal: 167ms\tremaining: 3.81s\n",
      "42:\tlearn: 0.2723049\ttotal: 171ms\tremaining: 3.8s\n",
      "43:\tlearn: 0.2712591\ttotal: 174ms\tremaining: 3.78s\n",
      "44:\tlearn: 0.2696152\ttotal: 178ms\tremaining: 3.78s\n",
      "45:\tlearn: 0.2678187\ttotal: 182ms\tremaining: 3.77s\n",
      "46:\tlearn: 0.2662825\ttotal: 185ms\tremaining: 3.75s\n",
      "47:\tlearn: 0.2651202\ttotal: 189ms\tremaining: 3.74s\n",
      "48:\tlearn: 0.2637659\ttotal: 193ms\tremaining: 3.75s\n",
      "49:\tlearn: 0.2622806\ttotal: 197ms\tremaining: 3.74s\n",
      "50:\tlearn: 0.2609587\ttotal: 202ms\tremaining: 3.75s\n",
      "51:\tlearn: 0.2596497\ttotal: 205ms\tremaining: 3.75s\n",
      "52:\tlearn: 0.2586389\ttotal: 210ms\tremaining: 3.74s\n",
      "53:\tlearn: 0.2575308\ttotal: 214ms\tremaining: 3.74s\n",
      "54:\tlearn: 0.2563464\ttotal: 218ms\tremaining: 3.74s\n",
      "55:\tlearn: 0.2553938\ttotal: 221ms\tremaining: 3.73s\n",
      "56:\tlearn: 0.2542418\ttotal: 225ms\tremaining: 3.72s\n",
      "57:\tlearn: 0.2530719\ttotal: 229ms\tremaining: 3.72s\n",
      "58:\tlearn: 0.2521842\ttotal: 233ms\tremaining: 3.72s\n",
      "59:\tlearn: 0.2512768\ttotal: 237ms\tremaining: 3.71s\n",
      "60:\tlearn: 0.2504819\ttotal: 241ms\tremaining: 3.71s\n",
      "61:\tlearn: 0.2497338\ttotal: 245ms\tremaining: 3.7s\n",
      "62:\tlearn: 0.2492157\ttotal: 248ms\tremaining: 3.69s\n",
      "63:\tlearn: 0.2486779\ttotal: 252ms\tremaining: 3.68s\n",
      "64:\tlearn: 0.2478278\ttotal: 256ms\tremaining: 3.68s\n",
      "65:\tlearn: 0.2471226\ttotal: 259ms\tremaining: 3.67s\n",
      "66:\tlearn: 0.2460822\ttotal: 263ms\tremaining: 3.66s\n",
      "67:\tlearn: 0.2452864\ttotal: 267ms\tremaining: 3.65s\n",
      "68:\tlearn: 0.2446291\ttotal: 270ms\tremaining: 3.64s\n",
      "69:\tlearn: 0.2441226\ttotal: 274ms\tremaining: 3.63s\n",
      "70:\tlearn: 0.2435059\ttotal: 277ms\tremaining: 3.63s\n",
      "71:\tlearn: 0.2430224\ttotal: 281ms\tremaining: 3.62s\n",
      "72:\tlearn: 0.2425473\ttotal: 290ms\tremaining: 3.68s\n",
      "73:\tlearn: 0.2417467\ttotal: 300ms\tremaining: 3.76s\n",
      "74:\tlearn: 0.2411925\ttotal: 312ms\tremaining: 3.85s\n",
      "75:\tlearn: 0.2405901\ttotal: 317ms\tremaining: 3.85s\n",
      "76:\tlearn: 0.2401959\ttotal: 322ms\tremaining: 3.86s\n",
      "77:\tlearn: 0.2396339\ttotal: 328ms\tremaining: 3.88s\n",
      "78:\tlearn: 0.2391089\ttotal: 334ms\tremaining: 3.9s\n",
      "79:\tlearn: 0.2386577\ttotal: 340ms\tremaining: 3.91s\n",
      "80:\tlearn: 0.2381253\ttotal: 348ms\tremaining: 3.94s\n",
      "81:\tlearn: 0.2376817\ttotal: 357ms\tremaining: 3.99s\n",
      "82:\tlearn: 0.2371225\ttotal: 362ms\tremaining: 4s\n",
      "83:\tlearn: 0.2367069\ttotal: 367ms\tremaining: 4s\n",
      "84:\tlearn: 0.2362258\ttotal: 374ms\tremaining: 4.02s\n",
      "85:\tlearn: 0.2358507\ttotal: 378ms\tremaining: 4.02s\n",
      "86:\tlearn: 0.2353572\ttotal: 383ms\tremaining: 4.02s\n",
      "87:\tlearn: 0.2350400\ttotal: 389ms\tremaining: 4.03s\n",
      "88:\tlearn: 0.2345352\ttotal: 395ms\tremaining: 4.04s\n",
      "89:\tlearn: 0.2341770\ttotal: 400ms\tremaining: 4.05s\n",
      "90:\tlearn: 0.2338437\ttotal: 405ms\tremaining: 4.05s\n",
      "91:\tlearn: 0.2334750\ttotal: 410ms\tremaining: 4.04s\n",
      "92:\tlearn: 0.2331382\ttotal: 414ms\tremaining: 4.04s\n",
      "93:\tlearn: 0.2327620\ttotal: 418ms\tremaining: 4.03s\n",
      "94:\tlearn: 0.2323787\ttotal: 422ms\tremaining: 4.02s\n",
      "95:\tlearn: 0.2318464\ttotal: 426ms\tremaining: 4.01s\n",
      "96:\tlearn: 0.2314195\ttotal: 430ms\tremaining: 4.01s\n",
      "97:\tlearn: 0.2310564\ttotal: 434ms\tremaining: 4s\n",
      "98:\tlearn: 0.2307502\ttotal: 438ms\tremaining: 3.99s\n",
      "99:\tlearn: 0.2303961\ttotal: 442ms\tremaining: 3.98s\n",
      "100:\tlearn: 0.2300228\ttotal: 447ms\tremaining: 3.98s\n",
      "101:\tlearn: 0.2297032\ttotal: 451ms\tremaining: 3.97s\n",
      "102:\tlearn: 0.2294196\ttotal: 455ms\tremaining: 3.96s\n",
      "103:\tlearn: 0.2291325\ttotal: 459ms\tremaining: 3.95s\n",
      "104:\tlearn: 0.2288106\ttotal: 463ms\tremaining: 3.95s\n",
      "105:\tlearn: 0.2285878\ttotal: 467ms\tremaining: 3.94s\n",
      "106:\tlearn: 0.2282590\ttotal: 474ms\tremaining: 3.96s\n",
      "107:\tlearn: 0.2279335\ttotal: 479ms\tremaining: 3.96s\n",
      "108:\tlearn: 0.2276413\ttotal: 483ms\tremaining: 3.95s\n",
      "109:\tlearn: 0.2272000\ttotal: 487ms\tremaining: 3.94s\n",
      "110:\tlearn: 0.2268865\ttotal: 492ms\tremaining: 3.94s\n",
      "111:\tlearn: 0.2265965\ttotal: 495ms\tremaining: 3.93s\n",
      "112:\tlearn: 0.2262775\ttotal: 500ms\tremaining: 3.92s\n",
      "113:\tlearn: 0.2260244\ttotal: 503ms\tremaining: 3.91s\n",
      "114:\tlearn: 0.2257123\ttotal: 508ms\tremaining: 3.91s\n",
      "115:\tlearn: 0.2253910\ttotal: 512ms\tremaining: 3.9s\n",
      "116:\tlearn: 0.2251471\ttotal: 516ms\tremaining: 3.89s\n",
      "117:\tlearn: 0.2249142\ttotal: 520ms\tremaining: 3.88s\n",
      "118:\tlearn: 0.2246985\ttotal: 525ms\tremaining: 3.88s\n",
      "119:\tlearn: 0.2245074\ttotal: 530ms\tremaining: 3.88s\n",
      "120:\tlearn: 0.2240694\ttotal: 534ms\tremaining: 3.88s\n",
      "121:\tlearn: 0.2237190\ttotal: 538ms\tremaining: 3.88s\n",
      "122:\tlearn: 0.2234510\ttotal: 542ms\tremaining: 3.87s\n",
      "123:\tlearn: 0.2231866\ttotal: 546ms\tremaining: 3.86s\n",
      "124:\tlearn: 0.2229539\ttotal: 550ms\tremaining: 3.85s\n",
      "125:\tlearn: 0.2226710\ttotal: 554ms\tremaining: 3.85s\n",
      "126:\tlearn: 0.2224127\ttotal: 559ms\tremaining: 3.84s\n",
      "127:\tlearn: 0.2220662\ttotal: 563ms\tremaining: 3.83s\n",
      "128:\tlearn: 0.2217771\ttotal: 566ms\tremaining: 3.82s\n",
      "129:\tlearn: 0.2214827\ttotal: 570ms\tremaining: 3.82s\n",
      "130:\tlearn: 0.2212394\ttotal: 574ms\tremaining: 3.81s\n",
      "131:\tlearn: 0.2210140\ttotal: 578ms\tremaining: 3.8s\n",
      "132:\tlearn: 0.2207578\ttotal: 582ms\tremaining: 3.79s\n",
      "133:\tlearn: 0.2205363\ttotal: 587ms\tremaining: 3.79s\n",
      "134:\tlearn: 0.2202804\ttotal: 591ms\tremaining: 3.79s\n",
      "135:\tlearn: 0.2198814\ttotal: 595ms\tremaining: 3.78s\n",
      "136:\tlearn: 0.2196995\ttotal: 599ms\tremaining: 3.77s\n",
      "137:\tlearn: 0.2194758\ttotal: 603ms\tremaining: 3.77s\n",
      "138:\tlearn: 0.2193014\ttotal: 608ms\tremaining: 3.77s\n",
      "139:\tlearn: 0.2190886\ttotal: 613ms\tremaining: 3.76s\n",
      "140:\tlearn: 0.2189098\ttotal: 616ms\tremaining: 3.75s\n",
      "141:\tlearn: 0.2187230\ttotal: 621ms\tremaining: 3.75s\n",
      "142:\tlearn: 0.2184286\ttotal: 625ms\tremaining: 3.74s\n",
      "143:\tlearn: 0.2181665\ttotal: 629ms\tremaining: 3.74s\n",
      "144:\tlearn: 0.2179187\ttotal: 633ms\tremaining: 3.73s\n",
      "145:\tlearn: 0.2177321\ttotal: 637ms\tremaining: 3.73s\n",
      "146:\tlearn: 0.2174924\ttotal: 641ms\tremaining: 3.72s\n",
      "147:\tlearn: 0.2173069\ttotal: 644ms\tremaining: 3.71s\n",
      "148:\tlearn: 0.2171508\ttotal: 648ms\tremaining: 3.7s\n",
      "149:\tlearn: 0.2169305\ttotal: 652ms\tremaining: 3.69s\n",
      "150:\tlearn: 0.2167165\ttotal: 655ms\tremaining: 3.68s\n",
      "151:\tlearn: 0.2164227\ttotal: 659ms\tremaining: 3.68s\n",
      "152:\tlearn: 0.2162450\ttotal: 663ms\tremaining: 3.67s\n",
      "153:\tlearn: 0.2160502\ttotal: 666ms\tremaining: 3.66s\n",
      "154:\tlearn: 0.2159058\ttotal: 670ms\tremaining: 3.65s\n",
      "155:\tlearn: 0.2157259\ttotal: 673ms\tremaining: 3.64s\n",
      "156:\tlearn: 0.2155017\ttotal: 677ms\tremaining: 3.63s\n",
      "157:\tlearn: 0.2152952\ttotal: 681ms\tremaining: 3.63s\n",
      "158:\tlearn: 0.2151336\ttotal: 685ms\tremaining: 3.62s\n",
      "159:\tlearn: 0.2149782\ttotal: 688ms\tremaining: 3.61s\n",
      "160:\tlearn: 0.2148205\ttotal: 692ms\tremaining: 3.6s\n",
      "161:\tlearn: 0.2145281\ttotal: 696ms\tremaining: 3.6s\n",
      "162:\tlearn: 0.2143882\ttotal: 699ms\tremaining: 3.59s\n",
      "163:\tlearn: 0.2142610\ttotal: 703ms\tremaining: 3.58s\n",
      "164:\tlearn: 0.2140180\ttotal: 707ms\tremaining: 3.58s\n",
      "165:\tlearn: 0.2138141\ttotal: 710ms\tremaining: 3.57s\n",
      "166:\tlearn: 0.2136149\ttotal: 714ms\tremaining: 3.56s\n",
      "167:\tlearn: 0.2133923\ttotal: 717ms\tremaining: 3.55s\n",
      "168:\tlearn: 0.2132505\ttotal: 721ms\tremaining: 3.54s\n",
      "169:\tlearn: 0.2131111\ttotal: 725ms\tremaining: 3.54s\n",
      "170:\tlearn: 0.2128182\ttotal: 728ms\tremaining: 3.53s\n",
      "171:\tlearn: 0.2126905\ttotal: 733ms\tremaining: 3.53s\n",
      "172:\tlearn: 0.2125587\ttotal: 738ms\tremaining: 3.53s\n",
      "173:\tlearn: 0.2124089\ttotal: 741ms\tremaining: 3.52s\n",
      "174:\tlearn: 0.2122404\ttotal: 745ms\tremaining: 3.51s\n",
      "175:\tlearn: 0.2120657\ttotal: 749ms\tremaining: 3.5s\n",
      "176:\tlearn: 0.2119171\ttotal: 752ms\tremaining: 3.5s\n",
      "177:\tlearn: 0.2117388\ttotal: 756ms\tremaining: 3.49s\n",
      "178:\tlearn: 0.2116222\ttotal: 759ms\tremaining: 3.48s\n",
      "179:\tlearn: 0.2113572\ttotal: 763ms\tremaining: 3.48s\n",
      "180:\tlearn: 0.2111646\ttotal: 767ms\tremaining: 3.47s\n",
      "181:\tlearn: 0.2109675\ttotal: 770ms\tremaining: 3.46s\n",
      "182:\tlearn: 0.2108600\ttotal: 774ms\tremaining: 3.45s\n",
      "183:\tlearn: 0.2107253\ttotal: 778ms\tremaining: 3.45s\n"
     ]
    },
    {
     "name": "stdout",
     "output_type": "stream",
     "text": [
      "184:\tlearn: 0.2105937\ttotal: 782ms\tremaining: 3.44s\n",
      "185:\tlearn: 0.2104135\ttotal: 786ms\tremaining: 3.44s\n",
      "186:\tlearn: 0.2102394\ttotal: 790ms\tremaining: 3.43s\n",
      "187:\tlearn: 0.2100739\ttotal: 794ms\tremaining: 3.43s\n",
      "188:\tlearn: 0.2098812\ttotal: 798ms\tremaining: 3.42s\n",
      "189:\tlearn: 0.2096841\ttotal: 802ms\tremaining: 3.42s\n",
      "190:\tlearn: 0.2095743\ttotal: 805ms\tremaining: 3.41s\n",
      "191:\tlearn: 0.2093934\ttotal: 810ms\tremaining: 3.41s\n",
      "192:\tlearn: 0.2092936\ttotal: 813ms\tremaining: 3.4s\n",
      "193:\tlearn: 0.2091520\ttotal: 817ms\tremaining: 3.39s\n",
      "194:\tlearn: 0.2090295\ttotal: 821ms\tremaining: 3.39s\n",
      "195:\tlearn: 0.2087621\ttotal: 825ms\tremaining: 3.38s\n",
      "196:\tlearn: 0.2085897\ttotal: 829ms\tremaining: 3.38s\n",
      "197:\tlearn: 0.2084738\ttotal: 833ms\tremaining: 3.38s\n",
      "198:\tlearn: 0.2083127\ttotal: 837ms\tremaining: 3.37s\n",
      "199:\tlearn: 0.2081942\ttotal: 841ms\tremaining: 3.36s\n",
      "200:\tlearn: 0.2080461\ttotal: 845ms\tremaining: 3.36s\n",
      "201:\tlearn: 0.2078812\ttotal: 848ms\tremaining: 3.35s\n",
      "202:\tlearn: 0.2077163\ttotal: 852ms\tremaining: 3.34s\n",
      "203:\tlearn: 0.2075444\ttotal: 856ms\tremaining: 3.34s\n",
      "204:\tlearn: 0.2073538\ttotal: 859ms\tremaining: 3.33s\n",
      "205:\tlearn: 0.2071502\ttotal: 863ms\tremaining: 3.33s\n",
      "206:\tlearn: 0.2070268\ttotal: 867ms\tremaining: 3.32s\n",
      "207:\tlearn: 0.2068994\ttotal: 870ms\tremaining: 3.31s\n",
      "208:\tlearn: 0.2067449\ttotal: 874ms\tremaining: 3.31s\n",
      "209:\tlearn: 0.2065784\ttotal: 878ms\tremaining: 3.3s\n",
      "210:\tlearn: 0.2064240\ttotal: 882ms\tremaining: 3.3s\n",
      "211:\tlearn: 0.2062622\ttotal: 885ms\tremaining: 3.29s\n",
      "212:\tlearn: 0.2061055\ttotal: 889ms\tremaining: 3.29s\n",
      "213:\tlearn: 0.2059758\ttotal: 893ms\tremaining: 3.28s\n",
      "214:\tlearn: 0.2058472\ttotal: 897ms\tremaining: 3.27s\n",
      "215:\tlearn: 0.2057411\ttotal: 900ms\tremaining: 3.27s\n",
      "216:\tlearn: 0.2056177\ttotal: 904ms\tremaining: 3.26s\n",
      "217:\tlearn: 0.2055131\ttotal: 908ms\tremaining: 3.26s\n",
      "218:\tlearn: 0.2053109\ttotal: 911ms\tremaining: 3.25s\n",
      "219:\tlearn: 0.2051211\ttotal: 916ms\tremaining: 3.25s\n",
      "220:\tlearn: 0.2050150\ttotal: 920ms\tremaining: 3.24s\n",
      "221:\tlearn: 0.2048696\ttotal: 924ms\tremaining: 3.24s\n",
      "222:\tlearn: 0.2047565\ttotal: 929ms\tremaining: 3.23s\n",
      "223:\tlearn: 0.2045702\ttotal: 932ms\tremaining: 3.23s\n",
      "224:\tlearn: 0.2043845\ttotal: 936ms\tremaining: 3.22s\n",
      "225:\tlearn: 0.2042178\ttotal: 939ms\tremaining: 3.22s\n",
      "226:\tlearn: 0.2040663\ttotal: 943ms\tremaining: 3.21s\n",
      "227:\tlearn: 0.2038889\ttotal: 947ms\tremaining: 3.21s\n",
      "228:\tlearn: 0.2037238\ttotal: 951ms\tremaining: 3.2s\n",
      "229:\tlearn: 0.2036068\ttotal: 954ms\tremaining: 3.19s\n",
      "230:\tlearn: 0.2034365\ttotal: 958ms\tremaining: 3.19s\n",
      "231:\tlearn: 0.2032607\ttotal: 962ms\tremaining: 3.18s\n",
      "232:\tlearn: 0.2031262\ttotal: 965ms\tremaining: 3.18s\n",
      "233:\tlearn: 0.2030279\ttotal: 969ms\tremaining: 3.17s\n",
      "234:\tlearn: 0.2028343\ttotal: 973ms\tremaining: 3.17s\n",
      "235:\tlearn: 0.2026514\ttotal: 978ms\tremaining: 3.17s\n",
      "236:\tlearn: 0.2024714\ttotal: 982ms\tremaining: 3.16s\n",
      "237:\tlearn: 0.2023086\ttotal: 986ms\tremaining: 3.16s\n",
      "238:\tlearn: 0.2021512\ttotal: 990ms\tremaining: 3.15s\n",
      "239:\tlearn: 0.2020727\ttotal: 994ms\tremaining: 3.15s\n",
      "240:\tlearn: 0.2019722\ttotal: 998ms\tremaining: 3.14s\n",
      "241:\tlearn: 0.2018519\ttotal: 1s\tremaining: 3.14s\n",
      "242:\tlearn: 0.2017536\ttotal: 1s\tremaining: 3.13s\n",
      "243:\tlearn: 0.2016000\ttotal: 1.01s\tremaining: 3.13s\n",
      "244:\tlearn: 0.2014523\ttotal: 1.01s\tremaining: 3.12s\n",
      "245:\tlearn: 0.2012982\ttotal: 1.02s\tremaining: 3.12s\n",
      "246:\tlearn: 0.2011665\ttotal: 1.02s\tremaining: 3.11s\n",
      "247:\tlearn: 0.2010465\ttotal: 1.02s\tremaining: 3.1s\n",
      "248:\tlearn: 0.2009584\ttotal: 1.03s\tremaining: 3.1s\n",
      "249:\tlearn: 0.2007995\ttotal: 1.03s\tremaining: 3.1s\n",
      "250:\tlearn: 0.2006917\ttotal: 1.03s\tremaining: 3.09s\n",
      "251:\tlearn: 0.2005699\ttotal: 1.04s\tremaining: 3.08s\n",
      "252:\tlearn: 0.2004703\ttotal: 1.04s\tremaining: 3.08s\n",
      "253:\tlearn: 0.2003717\ttotal: 1.05s\tremaining: 3.07s\n",
      "254:\tlearn: 0.2002435\ttotal: 1.05s\tremaining: 3.07s\n",
      "255:\tlearn: 0.2001518\ttotal: 1.05s\tremaining: 3.06s\n",
      "256:\tlearn: 0.2000234\ttotal: 1.06s\tremaining: 3.06s\n",
      "257:\tlearn: 0.1999196\ttotal: 1.06s\tremaining: 3.05s\n",
      "258:\tlearn: 0.1997332\ttotal: 1.06s\tremaining: 3.05s\n",
      "259:\tlearn: 0.1996327\ttotal: 1.07s\tremaining: 3.04s\n",
      "260:\tlearn: 0.1995295\ttotal: 1.07s\tremaining: 3.04s\n",
      "261:\tlearn: 0.1994020\ttotal: 1.08s\tremaining: 3.03s\n",
      "262:\tlearn: 0.1993023\ttotal: 1.08s\tremaining: 3.03s\n",
      "263:\tlearn: 0.1992134\ttotal: 1.08s\tremaining: 3.02s\n",
      "264:\tlearn: 0.1990397\ttotal: 1.09s\tremaining: 3.02s\n",
      "265:\tlearn: 0.1988915\ttotal: 1.09s\tremaining: 3.01s\n",
      "266:\tlearn: 0.1987143\ttotal: 1.09s\tremaining: 3s\n",
      "267:\tlearn: 0.1986046\ttotal: 1.1s\tremaining: 3s\n",
      "268:\tlearn: 0.1985108\ttotal: 1.1s\tremaining: 3s\n",
      "269:\tlearn: 0.1983983\ttotal: 1.11s\tremaining: 2.99s\n",
      "270:\tlearn: 0.1982933\ttotal: 1.11s\tremaining: 2.99s\n",
      "271:\tlearn: 0.1982043\ttotal: 1.11s\tremaining: 2.98s\n",
      "272:\tlearn: 0.1980818\ttotal: 1.12s\tremaining: 2.98s\n",
      "273:\tlearn: 0.1979395\ttotal: 1.12s\tremaining: 2.98s\n",
      "274:\tlearn: 0.1977888\ttotal: 1.13s\tremaining: 2.98s\n",
      "275:\tlearn: 0.1976716\ttotal: 1.13s\tremaining: 2.97s\n",
      "276:\tlearn: 0.1975992\ttotal: 1.14s\tremaining: 2.97s\n",
      "277:\tlearn: 0.1975134\ttotal: 1.14s\tremaining: 2.97s\n",
      "278:\tlearn: 0.1974172\ttotal: 1.15s\tremaining: 2.96s\n",
      "279:\tlearn: 0.1972706\ttotal: 1.15s\tremaining: 2.96s\n",
      "280:\tlearn: 0.1971626\ttotal: 1.15s\tremaining: 2.95s\n",
      "281:\tlearn: 0.1970421\ttotal: 1.16s\tremaining: 2.95s\n",
      "282:\tlearn: 0.1969778\ttotal: 1.16s\tremaining: 2.94s\n",
      "283:\tlearn: 0.1968279\ttotal: 1.17s\tremaining: 2.94s\n",
      "284:\tlearn: 0.1967335\ttotal: 1.17s\tremaining: 2.94s\n",
      "285:\tlearn: 0.1965934\ttotal: 1.18s\tremaining: 2.93s\n",
      "286:\tlearn: 0.1965181\ttotal: 1.18s\tremaining: 2.93s\n",
      "287:\tlearn: 0.1963888\ttotal: 1.18s\tremaining: 2.92s\n",
      "288:\tlearn: 0.1962735\ttotal: 1.19s\tremaining: 2.92s\n",
      "289:\tlearn: 0.1961663\ttotal: 1.19s\tremaining: 2.92s\n",
      "290:\tlearn: 0.1960556\ttotal: 1.2s\tremaining: 2.91s\n",
      "291:\tlearn: 0.1959292\ttotal: 1.2s\tremaining: 2.91s\n",
      "292:\tlearn: 0.1957482\ttotal: 1.2s\tremaining: 2.9s\n",
      "293:\tlearn: 0.1956445\ttotal: 1.21s\tremaining: 2.9s\n",
      "294:\tlearn: 0.1954604\ttotal: 1.21s\tremaining: 2.9s\n",
      "295:\tlearn: 0.1953445\ttotal: 1.22s\tremaining: 2.89s\n",
      "296:\tlearn: 0.1952730\ttotal: 1.22s\tremaining: 2.89s\n",
      "297:\tlearn: 0.1951620\ttotal: 1.23s\tremaining: 2.89s\n",
      "298:\tlearn: 0.1950751\ttotal: 1.23s\tremaining: 2.88s\n",
      "299:\tlearn: 0.1948965\ttotal: 1.23s\tremaining: 2.88s\n",
      "300:\tlearn: 0.1947852\ttotal: 1.24s\tremaining: 2.87s\n",
      "301:\tlearn: 0.1946855\ttotal: 1.24s\tremaining: 2.87s\n",
      "302:\tlearn: 0.1945783\ttotal: 1.25s\tremaining: 2.87s\n",
      "303:\tlearn: 0.1944602\ttotal: 1.25s\tremaining: 2.86s\n",
      "304:\tlearn: 0.1943393\ttotal: 1.25s\tremaining: 2.86s\n",
      "305:\tlearn: 0.1942125\ttotal: 1.26s\tremaining: 2.85s\n",
      "306:\tlearn: 0.1940271\ttotal: 1.26s\tremaining: 2.85s\n",
      "307:\tlearn: 0.1939396\ttotal: 1.27s\tremaining: 2.85s\n",
      "308:\tlearn: 0.1938370\ttotal: 1.27s\tremaining: 2.84s\n",
      "309:\tlearn: 0.1937498\ttotal: 1.27s\tremaining: 2.84s\n",
      "310:\tlearn: 0.1936378\ttotal: 1.28s\tremaining: 2.83s\n",
      "311:\tlearn: 0.1935562\ttotal: 1.28s\tremaining: 2.83s\n",
      "312:\tlearn: 0.1934769\ttotal: 1.29s\tremaining: 2.82s\n",
      "313:\tlearn: 0.1933423\ttotal: 1.29s\tremaining: 2.82s\n",
      "314:\tlearn: 0.1932413\ttotal: 1.29s\tremaining: 2.81s\n",
      "315:\tlearn: 0.1931746\ttotal: 1.3s\tremaining: 2.81s\n",
      "316:\tlearn: 0.1930616\ttotal: 1.3s\tremaining: 2.8s\n",
      "317:\tlearn: 0.1929116\ttotal: 1.3s\tremaining: 2.8s\n",
      "318:\tlearn: 0.1928220\ttotal: 1.31s\tremaining: 2.79s\n",
      "319:\tlearn: 0.1926592\ttotal: 1.31s\tremaining: 2.79s\n",
      "320:\tlearn: 0.1925358\ttotal: 1.32s\tremaining: 2.78s\n",
      "321:\tlearn: 0.1923688\ttotal: 1.32s\tremaining: 2.78s\n",
      "322:\tlearn: 0.1922784\ttotal: 1.32s\tremaining: 2.77s\n",
      "323:\tlearn: 0.1921759\ttotal: 1.33s\tremaining: 2.77s\n",
      "324:\tlearn: 0.1920529\ttotal: 1.33s\tremaining: 2.77s\n",
      "325:\tlearn: 0.1919853\ttotal: 1.33s\tremaining: 2.76s\n",
      "326:\tlearn: 0.1918921\ttotal: 1.34s\tremaining: 2.75s\n",
      "327:\tlearn: 0.1917786\ttotal: 1.34s\tremaining: 2.75s\n",
      "328:\tlearn: 0.1916396\ttotal: 1.35s\tremaining: 2.75s\n",
      "329:\tlearn: 0.1915625\ttotal: 1.35s\tremaining: 2.74s\n",
      "330:\tlearn: 0.1914721\ttotal: 1.35s\tremaining: 2.73s\n",
      "331:\tlearn: 0.1913704\ttotal: 1.36s\tremaining: 2.73s\n",
      "332:\tlearn: 0.1913227\ttotal: 1.36s\tremaining: 2.73s\n",
      "333:\tlearn: 0.1912366\ttotal: 1.36s\tremaining: 2.72s\n",
      "334:\tlearn: 0.1911337\ttotal: 1.37s\tremaining: 2.72s\n",
      "335:\tlearn: 0.1910225\ttotal: 1.37s\tremaining: 2.71s\n",
      "336:\tlearn: 0.1909269\ttotal: 1.38s\tremaining: 2.71s\n",
      "337:\tlearn: 0.1908461\ttotal: 1.38s\tremaining: 2.71s\n",
      "338:\tlearn: 0.1907482\ttotal: 1.39s\tremaining: 2.7s\n",
      "339:\tlearn: 0.1905963\ttotal: 1.39s\tremaining: 2.7s\n",
      "340:\tlearn: 0.1905124\ttotal: 1.39s\tremaining: 2.69s\n",
      "341:\tlearn: 0.1903947\ttotal: 1.4s\tremaining: 2.69s\n",
      "342:\tlearn: 0.1902574\ttotal: 1.4s\tremaining: 2.68s\n",
      "343:\tlearn: 0.1901413\ttotal: 1.41s\tremaining: 2.68s\n",
      "344:\tlearn: 0.1900425\ttotal: 1.41s\tremaining: 2.67s\n",
      "345:\tlearn: 0.1899335\ttotal: 1.41s\tremaining: 2.67s\n",
      "346:\tlearn: 0.1897965\ttotal: 1.42s\tremaining: 2.67s\n",
      "347:\tlearn: 0.1896967\ttotal: 1.42s\tremaining: 2.66s\n",
      "348:\tlearn: 0.1896179\ttotal: 1.42s\tremaining: 2.66s\n",
      "349:\tlearn: 0.1894893\ttotal: 1.43s\tremaining: 2.65s\n",
      "350:\tlearn: 0.1894106\ttotal: 1.43s\tremaining: 2.65s\n",
      "351:\tlearn: 0.1893380\ttotal: 1.44s\tremaining: 2.64s\n",
      "352:\tlearn: 0.1892295\ttotal: 1.44s\tremaining: 2.64s\n",
      "353:\tlearn: 0.1891167\ttotal: 1.44s\tremaining: 2.63s\n",
      "354:\tlearn: 0.1890141\ttotal: 1.45s\tremaining: 2.63s\n",
      "355:\tlearn: 0.1888941\ttotal: 1.45s\tremaining: 2.62s\n",
      "356:\tlearn: 0.1887982\ttotal: 1.45s\tremaining: 2.62s\n",
      "357:\tlearn: 0.1887286\ttotal: 1.46s\tremaining: 2.61s\n",
      "358:\tlearn: 0.1886162\ttotal: 1.46s\tremaining: 2.61s\n",
      "359:\tlearn: 0.1885368\ttotal: 1.47s\tremaining: 2.6s\n",
      "360:\tlearn: 0.1884317\ttotal: 1.47s\tremaining: 2.6s\n",
      "361:\tlearn: 0.1883221\ttotal: 1.47s\tremaining: 2.6s\n",
      "362:\tlearn: 0.1882305\ttotal: 1.48s\tremaining: 2.59s\n",
      "363:\tlearn: 0.1881113\ttotal: 1.48s\tremaining: 2.59s\n",
      "364:\tlearn: 0.1880470\ttotal: 1.48s\tremaining: 2.58s\n",
      "365:\tlearn: 0.1879703\ttotal: 1.49s\tremaining: 2.58s\n",
      "366:\tlearn: 0.1878844\ttotal: 1.49s\tremaining: 2.57s\n",
      "367:\tlearn: 0.1877578\ttotal: 1.5s\tremaining: 2.57s\n",
      "368:\tlearn: 0.1876861\ttotal: 1.5s\tremaining: 2.56s\n",
      "369:\tlearn: 0.1876024\ttotal: 1.5s\tremaining: 2.56s\n",
      "370:\tlearn: 0.1875458\ttotal: 1.51s\tremaining: 2.55s\n",
      "371:\tlearn: 0.1874742\ttotal: 1.51s\tremaining: 2.55s\n",
      "372:\tlearn: 0.1873593\ttotal: 1.51s\tremaining: 2.54s\n",
      "373:\tlearn: 0.1872836\ttotal: 1.52s\tremaining: 2.54s\n",
      "374:\tlearn: 0.1872076\ttotal: 1.52s\tremaining: 2.53s\n",
      "375:\tlearn: 0.1870919\ttotal: 1.52s\tremaining: 2.53s\n",
      "376:\tlearn: 0.1869815\ttotal: 1.53s\tremaining: 2.52s\n",
      "377:\tlearn: 0.1868546\ttotal: 1.53s\tremaining: 2.52s\n",
      "378:\tlearn: 0.1867840\ttotal: 1.53s\tremaining: 2.52s\n",
      "379:\tlearn: 0.1867016\ttotal: 1.54s\tremaining: 2.51s\n",
      "380:\tlearn: 0.1866357\ttotal: 1.54s\tremaining: 2.51s\n",
      "381:\tlearn: 0.1865653\ttotal: 1.55s\tremaining: 2.5s\n",
      "382:\tlearn: 0.1864962\ttotal: 1.55s\tremaining: 2.5s\n",
      "383:\tlearn: 0.1864229\ttotal: 1.55s\tremaining: 2.49s\n",
      "384:\tlearn: 0.1863755\ttotal: 1.56s\tremaining: 2.49s\n",
      "385:\tlearn: 0.1863044\ttotal: 1.56s\tremaining: 2.48s\n",
      "386:\tlearn: 0.1862079\ttotal: 1.56s\tremaining: 2.48s\n"
     ]
    },
    {
     "name": "stdout",
     "output_type": "stream",
     "text": [
      "387:\tlearn: 0.1861226\ttotal: 1.57s\tremaining: 2.48s\n",
      "388:\tlearn: 0.1860143\ttotal: 1.57s\tremaining: 2.47s\n",
      "389:\tlearn: 0.1859784\ttotal: 1.58s\tremaining: 2.47s\n",
      "390:\tlearn: 0.1858827\ttotal: 1.58s\tremaining: 2.46s\n",
      "391:\tlearn: 0.1857574\ttotal: 1.59s\tremaining: 2.46s\n",
      "392:\tlearn: 0.1856661\ttotal: 1.59s\tremaining: 2.46s\n",
      "393:\tlearn: 0.1855881\ttotal: 1.59s\tremaining: 2.45s\n",
      "394:\tlearn: 0.1854824\ttotal: 1.6s\tremaining: 2.45s\n",
      "395:\tlearn: 0.1854377\ttotal: 1.6s\tremaining: 2.45s\n",
      "396:\tlearn: 0.1853819\ttotal: 1.61s\tremaining: 2.44s\n",
      "397:\tlearn: 0.1853196\ttotal: 1.61s\tremaining: 2.44s\n",
      "398:\tlearn: 0.1852688\ttotal: 1.61s\tremaining: 2.43s\n",
      "399:\tlearn: 0.1852021\ttotal: 1.62s\tremaining: 2.43s\n",
      "400:\tlearn: 0.1851381\ttotal: 1.62s\tremaining: 2.42s\n",
      "401:\tlearn: 0.1850541\ttotal: 1.63s\tremaining: 2.42s\n",
      "402:\tlearn: 0.1849947\ttotal: 1.63s\tremaining: 2.42s\n",
      "403:\tlearn: 0.1849372\ttotal: 1.63s\tremaining: 2.41s\n",
      "404:\tlearn: 0.1849045\ttotal: 1.64s\tremaining: 2.41s\n",
      "405:\tlearn: 0.1848165\ttotal: 1.64s\tremaining: 2.4s\n",
      "406:\tlearn: 0.1847476\ttotal: 1.65s\tremaining: 2.4s\n",
      "407:\tlearn: 0.1846763\ttotal: 1.65s\tremaining: 2.4s\n",
      "408:\tlearn: 0.1845670\ttotal: 1.66s\tremaining: 2.39s\n",
      "409:\tlearn: 0.1844790\ttotal: 1.66s\tremaining: 2.39s\n",
      "410:\tlearn: 0.1843639\ttotal: 1.66s\tremaining: 2.39s\n",
      "411:\tlearn: 0.1842974\ttotal: 1.67s\tremaining: 2.38s\n",
      "412:\tlearn: 0.1842444\ttotal: 1.67s\tremaining: 2.38s\n",
      "413:\tlearn: 0.1841938\ttotal: 1.68s\tremaining: 2.37s\n",
      "414:\tlearn: 0.1841441\ttotal: 1.68s\tremaining: 2.37s\n",
      "415:\tlearn: 0.1840443\ttotal: 1.68s\tremaining: 2.36s\n",
      "416:\tlearn: 0.1839511\ttotal: 1.69s\tremaining: 2.36s\n",
      "417:\tlearn: 0.1838639\ttotal: 1.69s\tremaining: 2.36s\n",
      "418:\tlearn: 0.1838134\ttotal: 1.7s\tremaining: 2.35s\n",
      "419:\tlearn: 0.1836866\ttotal: 1.7s\tremaining: 2.35s\n",
      "420:\tlearn: 0.1836320\ttotal: 1.71s\tremaining: 2.35s\n",
      "421:\tlearn: 0.1835765\ttotal: 1.71s\tremaining: 2.34s\n",
      "422:\tlearn: 0.1835099\ttotal: 1.72s\tremaining: 2.34s\n",
      "423:\tlearn: 0.1834732\ttotal: 1.72s\tremaining: 2.33s\n",
      "424:\tlearn: 0.1834178\ttotal: 1.72s\tremaining: 2.33s\n",
      "425:\tlearn: 0.1833551\ttotal: 1.73s\tremaining: 2.33s\n",
      "426:\tlearn: 0.1832439\ttotal: 1.73s\tremaining: 2.32s\n",
      "427:\tlearn: 0.1831798\ttotal: 1.74s\tremaining: 2.32s\n",
      "428:\tlearn: 0.1831079\ttotal: 1.74s\tremaining: 2.31s\n",
      "429:\tlearn: 0.1830349\ttotal: 1.74s\tremaining: 2.31s\n",
      "430:\tlearn: 0.1830014\ttotal: 1.75s\tremaining: 2.31s\n",
      "431:\tlearn: 0.1829528\ttotal: 1.75s\tremaining: 2.3s\n",
      "432:\tlearn: 0.1828761\ttotal: 1.75s\tremaining: 2.3s\n",
      "433:\tlearn: 0.1827981\ttotal: 1.76s\tremaining: 2.29s\n",
      "434:\tlearn: 0.1827294\ttotal: 1.76s\tremaining: 2.29s\n",
      "435:\tlearn: 0.1827019\ttotal: 1.77s\tremaining: 2.29s\n",
      "436:\tlearn: 0.1826433\ttotal: 1.77s\tremaining: 2.28s\n",
      "437:\tlearn: 0.1825977\ttotal: 1.78s\tremaining: 2.28s\n",
      "438:\tlearn: 0.1825131\ttotal: 1.78s\tremaining: 2.27s\n",
      "439:\tlearn: 0.1824551\ttotal: 1.78s\tremaining: 2.27s\n",
      "440:\tlearn: 0.1824093\ttotal: 1.79s\tremaining: 2.27s\n",
      "441:\tlearn: 0.1823148\ttotal: 1.79s\tremaining: 2.26s\n",
      "442:\tlearn: 0.1822283\ttotal: 1.8s\tremaining: 2.26s\n",
      "443:\tlearn: 0.1821573\ttotal: 1.8s\tremaining: 2.25s\n",
      "444:\tlearn: 0.1820718\ttotal: 1.81s\tremaining: 2.25s\n",
      "445:\tlearn: 0.1820184\ttotal: 1.81s\tremaining: 2.25s\n",
      "446:\tlearn: 0.1819734\ttotal: 1.81s\tremaining: 2.24s\n",
      "447:\tlearn: 0.1819206\ttotal: 1.82s\tremaining: 2.24s\n",
      "448:\tlearn: 0.1818304\ttotal: 1.82s\tremaining: 2.24s\n",
      "449:\tlearn: 0.1817537\ttotal: 1.83s\tremaining: 2.23s\n",
      "450:\tlearn: 0.1816694\ttotal: 1.83s\tremaining: 2.23s\n",
      "451:\tlearn: 0.1816109\ttotal: 1.83s\tremaining: 2.22s\n",
      "452:\tlearn: 0.1815616\ttotal: 1.84s\tremaining: 2.22s\n",
      "453:\tlearn: 0.1814846\ttotal: 1.84s\tremaining: 2.22s\n",
      "454:\tlearn: 0.1813999\ttotal: 1.85s\tremaining: 2.21s\n",
      "455:\tlearn: 0.1812935\ttotal: 1.85s\tremaining: 2.21s\n",
      "456:\tlearn: 0.1812373\ttotal: 1.86s\tremaining: 2.21s\n",
      "457:\tlearn: 0.1811881\ttotal: 1.86s\tremaining: 2.2s\n",
      "458:\tlearn: 0.1810702\ttotal: 1.86s\tremaining: 2.2s\n",
      "459:\tlearn: 0.1809936\ttotal: 1.87s\tremaining: 2.19s\n",
      "460:\tlearn: 0.1809499\ttotal: 1.87s\tremaining: 2.19s\n",
      "461:\tlearn: 0.1809074\ttotal: 1.88s\tremaining: 2.19s\n",
      "462:\tlearn: 0.1808493\ttotal: 1.88s\tremaining: 2.18s\n",
      "463:\tlearn: 0.1807867\ttotal: 1.88s\tremaining: 2.18s\n",
      "464:\tlearn: 0.1806951\ttotal: 1.89s\tremaining: 2.17s\n",
      "465:\tlearn: 0.1806705\ttotal: 1.89s\tremaining: 2.17s\n",
      "466:\tlearn: 0.1805779\ttotal: 1.9s\tremaining: 2.16s\n",
      "467:\tlearn: 0.1805149\ttotal: 1.9s\tremaining: 2.16s\n",
      "468:\tlearn: 0.1804677\ttotal: 1.9s\tremaining: 2.15s\n",
      "469:\tlearn: 0.1804009\ttotal: 1.91s\tremaining: 2.15s\n",
      "470:\tlearn: 0.1803258\ttotal: 1.91s\tremaining: 2.15s\n",
      "471:\tlearn: 0.1802603\ttotal: 1.91s\tremaining: 2.14s\n",
      "472:\tlearn: 0.1801963\ttotal: 1.92s\tremaining: 2.14s\n",
      "473:\tlearn: 0.1801424\ttotal: 1.92s\tremaining: 2.13s\n",
      "474:\tlearn: 0.1800783\ttotal: 1.93s\tremaining: 2.13s\n",
      "475:\tlearn: 0.1800310\ttotal: 1.93s\tremaining: 2.12s\n",
      "476:\tlearn: 0.1799820\ttotal: 1.93s\tremaining: 2.12s\n",
      "477:\tlearn: 0.1798940\ttotal: 1.94s\tremaining: 2.12s\n",
      "478:\tlearn: 0.1798161\ttotal: 1.94s\tremaining: 2.11s\n",
      "479:\tlearn: 0.1797682\ttotal: 1.94s\tremaining: 2.11s\n",
      "480:\tlearn: 0.1797091\ttotal: 1.95s\tremaining: 2.1s\n",
      "481:\tlearn: 0.1796428\ttotal: 1.95s\tremaining: 2.1s\n",
      "482:\tlearn: 0.1795856\ttotal: 1.96s\tremaining: 2.09s\n",
      "483:\tlearn: 0.1795311\ttotal: 1.96s\tremaining: 2.09s\n",
      "484:\tlearn: 0.1794412\ttotal: 1.97s\tremaining: 2.09s\n",
      "485:\tlearn: 0.1793900\ttotal: 1.97s\tremaining: 2.08s\n",
      "486:\tlearn: 0.1793239\ttotal: 1.97s\tremaining: 2.08s\n",
      "487:\tlearn: 0.1792385\ttotal: 1.98s\tremaining: 2.08s\n",
      "488:\tlearn: 0.1791725\ttotal: 1.98s\tremaining: 2.07s\n",
      "489:\tlearn: 0.1790894\ttotal: 1.99s\tremaining: 2.07s\n",
      "490:\tlearn: 0.1790109\ttotal: 1.99s\tremaining: 2.06s\n",
      "491:\tlearn: 0.1789280\ttotal: 1.99s\tremaining: 2.06s\n",
      "492:\tlearn: 0.1788851\ttotal: 2s\tremaining: 2.06s\n",
      "493:\tlearn: 0.1788270\ttotal: 2s\tremaining: 2.05s\n",
      "494:\tlearn: 0.1787615\ttotal: 2.01s\tremaining: 2.05s\n",
      "495:\tlearn: 0.1787239\ttotal: 2.01s\tremaining: 2.04s\n",
      "496:\tlearn: 0.1786797\ttotal: 2.01s\tremaining: 2.04s\n",
      "497:\tlearn: 0.1786083\ttotal: 2.02s\tremaining: 2.03s\n",
      "498:\tlearn: 0.1785596\ttotal: 2.02s\tremaining: 2.03s\n",
      "499:\tlearn: 0.1784828\ttotal: 2.03s\tremaining: 2.03s\n",
      "500:\tlearn: 0.1784369\ttotal: 2.03s\tremaining: 2.02s\n",
      "501:\tlearn: 0.1783934\ttotal: 2.03s\tremaining: 2.02s\n",
      "502:\tlearn: 0.1783514\ttotal: 2.04s\tremaining: 2.01s\n",
      "503:\tlearn: 0.1782094\ttotal: 2.04s\tremaining: 2.01s\n",
      "504:\tlearn: 0.1781154\ttotal: 2.05s\tremaining: 2.01s\n",
      "505:\tlearn: 0.1780723\ttotal: 2.05s\tremaining: 2s\n",
      "506:\tlearn: 0.1780075\ttotal: 2.06s\tremaining: 2s\n",
      "507:\tlearn: 0.1779409\ttotal: 2.06s\tremaining: 2s\n",
      "508:\tlearn: 0.1778988\ttotal: 2.06s\tremaining: 1.99s\n",
      "509:\tlearn: 0.1778514\ttotal: 2.07s\tremaining: 1.99s\n",
      "510:\tlearn: 0.1778188\ttotal: 2.07s\tremaining: 1.98s\n",
      "511:\tlearn: 0.1777797\ttotal: 2.08s\tremaining: 1.98s\n",
      "512:\tlearn: 0.1777061\ttotal: 2.08s\tremaining: 1.98s\n",
      "513:\tlearn: 0.1776111\ttotal: 2.09s\tremaining: 1.97s\n",
      "514:\tlearn: 0.1775585\ttotal: 2.09s\tremaining: 1.97s\n",
      "515:\tlearn: 0.1774955\ttotal: 2.09s\tremaining: 1.97s\n",
      "516:\tlearn: 0.1774114\ttotal: 2.1s\tremaining: 1.96s\n",
      "517:\tlearn: 0.1773659\ttotal: 2.1s\tremaining: 1.96s\n",
      "518:\tlearn: 0.1773140\ttotal: 2.11s\tremaining: 1.95s\n",
      "519:\tlearn: 0.1772428\ttotal: 2.11s\tremaining: 1.95s\n",
      "520:\tlearn: 0.1771869\ttotal: 2.12s\tremaining: 1.95s\n",
      "521:\tlearn: 0.1771451\ttotal: 2.12s\tremaining: 1.94s\n",
      "522:\tlearn: 0.1770731\ttotal: 2.12s\tremaining: 1.94s\n",
      "523:\tlearn: 0.1770213\ttotal: 2.13s\tremaining: 1.93s\n",
      "524:\tlearn: 0.1769584\ttotal: 2.13s\tremaining: 1.93s\n",
      "525:\tlearn: 0.1769107\ttotal: 2.14s\tremaining: 1.93s\n",
      "526:\tlearn: 0.1768510\ttotal: 2.14s\tremaining: 1.92s\n",
      "527:\tlearn: 0.1768157\ttotal: 2.15s\tremaining: 1.92s\n",
      "528:\tlearn: 0.1767618\ttotal: 2.15s\tremaining: 1.91s\n",
      "529:\tlearn: 0.1766972\ttotal: 2.15s\tremaining: 1.91s\n",
      "530:\tlearn: 0.1766480\ttotal: 2.16s\tremaining: 1.91s\n",
      "531:\tlearn: 0.1765807\ttotal: 2.16s\tremaining: 1.9s\n",
      "532:\tlearn: 0.1765389\ttotal: 2.17s\tremaining: 1.9s\n",
      "533:\tlearn: 0.1764739\ttotal: 2.17s\tremaining: 1.89s\n",
      "534:\tlearn: 0.1764289\ttotal: 2.17s\tremaining: 1.89s\n",
      "535:\tlearn: 0.1763573\ttotal: 2.18s\tremaining: 1.89s\n",
      "536:\tlearn: 0.1762991\ttotal: 2.18s\tremaining: 1.88s\n",
      "537:\tlearn: 0.1762637\ttotal: 2.19s\tremaining: 1.88s\n",
      "538:\tlearn: 0.1762192\ttotal: 2.19s\tremaining: 1.87s\n",
      "539:\tlearn: 0.1761779\ttotal: 2.19s\tremaining: 1.87s\n",
      "540:\tlearn: 0.1761459\ttotal: 2.2s\tremaining: 1.87s\n",
      "541:\tlearn: 0.1760899\ttotal: 2.2s\tremaining: 1.86s\n",
      "542:\tlearn: 0.1760120\ttotal: 2.21s\tremaining: 1.86s\n",
      "543:\tlearn: 0.1759539\ttotal: 2.21s\tremaining: 1.85s\n",
      "544:\tlearn: 0.1758840\ttotal: 2.22s\tremaining: 1.85s\n",
      "545:\tlearn: 0.1758131\ttotal: 2.22s\tremaining: 1.85s\n",
      "546:\tlearn: 0.1757627\ttotal: 2.22s\tremaining: 1.84s\n",
      "547:\tlearn: 0.1757260\ttotal: 2.23s\tremaining: 1.84s\n",
      "548:\tlearn: 0.1756831\ttotal: 2.23s\tremaining: 1.83s\n",
      "549:\tlearn: 0.1756167\ttotal: 2.24s\tremaining: 1.83s\n",
      "550:\tlearn: 0.1755637\ttotal: 2.24s\tremaining: 1.83s\n",
      "551:\tlearn: 0.1755230\ttotal: 2.25s\tremaining: 1.82s\n",
      "552:\tlearn: 0.1754835\ttotal: 2.25s\tremaining: 1.82s\n",
      "553:\tlearn: 0.1753760\ttotal: 2.25s\tremaining: 1.81s\n",
      "554:\tlearn: 0.1752937\ttotal: 2.26s\tremaining: 1.81s\n",
      "555:\tlearn: 0.1752545\ttotal: 2.26s\tremaining: 1.81s\n",
      "556:\tlearn: 0.1752093\ttotal: 2.27s\tremaining: 1.8s\n",
      "557:\tlearn: 0.1751762\ttotal: 2.27s\tremaining: 1.8s\n",
      "558:\tlearn: 0.1750660\ttotal: 2.27s\tremaining: 1.79s\n",
      "559:\tlearn: 0.1750183\ttotal: 2.28s\tremaining: 1.79s\n",
      "560:\tlearn: 0.1749594\ttotal: 2.28s\tremaining: 1.78s\n",
      "561:\tlearn: 0.1749274\ttotal: 2.29s\tremaining: 1.78s\n",
      "562:\tlearn: 0.1748677\ttotal: 2.29s\tremaining: 1.78s\n",
      "563:\tlearn: 0.1748060\ttotal: 2.29s\tremaining: 1.77s\n",
      "564:\tlearn: 0.1747629\ttotal: 2.3s\tremaining: 1.77s\n",
      "565:\tlearn: 0.1747297\ttotal: 2.3s\tremaining: 1.76s\n",
      "566:\tlearn: 0.1746661\ttotal: 2.3s\tremaining: 1.76s\n",
      "567:\tlearn: 0.1746292\ttotal: 2.31s\tremaining: 1.75s\n",
      "568:\tlearn: 0.1745611\ttotal: 2.31s\tremaining: 1.75s\n",
      "569:\tlearn: 0.1745096\ttotal: 2.31s\tremaining: 1.75s\n",
      "570:\tlearn: 0.1744549\ttotal: 2.32s\tremaining: 1.74s\n",
      "571:\tlearn: 0.1743888\ttotal: 2.32s\tremaining: 1.74s\n",
      "572:\tlearn: 0.1743275\ttotal: 2.33s\tremaining: 1.73s\n",
      "573:\tlearn: 0.1742848\ttotal: 2.33s\tremaining: 1.73s\n",
      "574:\tlearn: 0.1742304\ttotal: 2.33s\tremaining: 1.72s\n",
      "575:\tlearn: 0.1742009\ttotal: 2.34s\tremaining: 1.72s\n",
      "576:\tlearn: 0.1741377\ttotal: 2.34s\tremaining: 1.72s\n",
      "577:\tlearn: 0.1740891\ttotal: 2.34s\tremaining: 1.71s\n",
      "578:\tlearn: 0.1740375\ttotal: 2.35s\tremaining: 1.71s\n",
      "579:\tlearn: 0.1739833\ttotal: 2.35s\tremaining: 1.7s\n",
      "580:\tlearn: 0.1739489\ttotal: 2.35s\tremaining: 1.7s\n"
     ]
    },
    {
     "name": "stdout",
     "output_type": "stream",
     "text": [
      "581:\tlearn: 0.1739135\ttotal: 2.36s\tremaining: 1.7s\n",
      "582:\tlearn: 0.1739061\ttotal: 2.36s\tremaining: 1.69s\n",
      "583:\tlearn: 0.1738362\ttotal: 2.37s\tremaining: 1.69s\n",
      "584:\tlearn: 0.1737531\ttotal: 2.37s\tremaining: 1.68s\n",
      "585:\tlearn: 0.1737411\ttotal: 2.38s\tremaining: 1.68s\n",
      "586:\tlearn: 0.1736648\ttotal: 2.38s\tremaining: 1.67s\n",
      "587:\tlearn: 0.1735998\ttotal: 2.38s\tremaining: 1.67s\n",
      "588:\tlearn: 0.1735571\ttotal: 2.39s\tremaining: 1.67s\n",
      "589:\tlearn: 0.1735141\ttotal: 2.39s\tremaining: 1.66s\n",
      "590:\tlearn: 0.1734409\ttotal: 2.4s\tremaining: 1.66s\n",
      "591:\tlearn: 0.1733955\ttotal: 2.4s\tremaining: 1.65s\n",
      "592:\tlearn: 0.1733524\ttotal: 2.4s\tremaining: 1.65s\n",
      "593:\tlearn: 0.1732918\ttotal: 2.41s\tremaining: 1.65s\n",
      "594:\tlearn: 0.1732510\ttotal: 2.41s\tremaining: 1.64s\n",
      "595:\tlearn: 0.1731994\ttotal: 2.42s\tremaining: 1.64s\n",
      "596:\tlearn: 0.1731304\ttotal: 2.42s\tremaining: 1.63s\n",
      "597:\tlearn: 0.1730979\ttotal: 2.42s\tremaining: 1.63s\n",
      "598:\tlearn: 0.1730484\ttotal: 2.43s\tremaining: 1.63s\n",
      "599:\tlearn: 0.1730145\ttotal: 2.43s\tremaining: 1.62s\n",
      "600:\tlearn: 0.1729673\ttotal: 2.44s\tremaining: 1.62s\n",
      "601:\tlearn: 0.1729188\ttotal: 2.44s\tremaining: 1.61s\n",
      "602:\tlearn: 0.1728826\ttotal: 2.44s\tremaining: 1.61s\n",
      "603:\tlearn: 0.1728495\ttotal: 2.45s\tremaining: 1.6s\n",
      "604:\tlearn: 0.1728111\ttotal: 2.45s\tremaining: 1.6s\n",
      "605:\tlearn: 0.1727771\ttotal: 2.45s\tremaining: 1.59s\n",
      "606:\tlearn: 0.1727133\ttotal: 2.46s\tremaining: 1.59s\n",
      "607:\tlearn: 0.1726598\ttotal: 2.46s\tremaining: 1.59s\n",
      "608:\tlearn: 0.1726390\ttotal: 2.46s\tremaining: 1.58s\n",
      "609:\tlearn: 0.1725655\ttotal: 2.47s\tremaining: 1.58s\n",
      "610:\tlearn: 0.1725091\ttotal: 2.47s\tremaining: 1.57s\n",
      "611:\tlearn: 0.1724705\ttotal: 2.48s\tremaining: 1.57s\n",
      "612:\tlearn: 0.1724360\ttotal: 2.48s\tremaining: 1.57s\n",
      "613:\tlearn: 0.1723835\ttotal: 2.48s\tremaining: 1.56s\n",
      "614:\tlearn: 0.1723148\ttotal: 2.49s\tremaining: 1.56s\n",
      "615:\tlearn: 0.1722677\ttotal: 2.49s\tremaining: 1.55s\n",
      "616:\tlearn: 0.1721782\ttotal: 2.5s\tremaining: 1.55s\n",
      "617:\tlearn: 0.1721136\ttotal: 2.5s\tremaining: 1.54s\n",
      "618:\tlearn: 0.1720537\ttotal: 2.5s\tremaining: 1.54s\n",
      "619:\tlearn: 0.1720156\ttotal: 2.51s\tremaining: 1.54s\n",
      "620:\tlearn: 0.1719523\ttotal: 2.51s\tremaining: 1.53s\n",
      "621:\tlearn: 0.1719205\ttotal: 2.52s\tremaining: 1.53s\n",
      "622:\tlearn: 0.1718883\ttotal: 2.52s\tremaining: 1.52s\n",
      "623:\tlearn: 0.1718433\ttotal: 2.52s\tremaining: 1.52s\n",
      "624:\tlearn: 0.1717906\ttotal: 2.53s\tremaining: 1.52s\n",
      "625:\tlearn: 0.1717281\ttotal: 2.53s\tremaining: 1.51s\n",
      "626:\tlearn: 0.1716815\ttotal: 2.54s\tremaining: 1.51s\n",
      "627:\tlearn: 0.1716368\ttotal: 2.54s\tremaining: 1.5s\n",
      "628:\tlearn: 0.1715998\ttotal: 2.54s\tremaining: 1.5s\n",
      "629:\tlearn: 0.1715553\ttotal: 2.55s\tremaining: 1.5s\n",
      "630:\tlearn: 0.1715006\ttotal: 2.55s\tremaining: 1.49s\n",
      "631:\tlearn: 0.1714374\ttotal: 2.56s\tremaining: 1.49s\n",
      "632:\tlearn: 0.1713966\ttotal: 2.56s\tremaining: 1.49s\n",
      "633:\tlearn: 0.1713508\ttotal: 2.57s\tremaining: 1.48s\n",
      "634:\tlearn: 0.1713174\ttotal: 2.57s\tremaining: 1.48s\n",
      "635:\tlearn: 0.1712526\ttotal: 2.58s\tremaining: 1.48s\n",
      "636:\tlearn: 0.1711925\ttotal: 2.58s\tremaining: 1.47s\n",
      "637:\tlearn: 0.1711121\ttotal: 2.59s\tremaining: 1.47s\n",
      "638:\tlearn: 0.1710510\ttotal: 2.59s\tremaining: 1.46s\n",
      "639:\tlearn: 0.1710147\ttotal: 2.6s\tremaining: 1.46s\n",
      "640:\tlearn: 0.1709725\ttotal: 2.6s\tremaining: 1.46s\n",
      "641:\tlearn: 0.1709186\ttotal: 2.6s\tremaining: 1.45s\n",
      "642:\tlearn: 0.1708704\ttotal: 2.61s\tremaining: 1.45s\n",
      "643:\tlearn: 0.1708341\ttotal: 2.61s\tremaining: 1.44s\n",
      "644:\tlearn: 0.1707991\ttotal: 2.62s\tremaining: 1.44s\n",
      "645:\tlearn: 0.1707632\ttotal: 2.62s\tremaining: 1.44s\n",
      "646:\tlearn: 0.1706922\ttotal: 2.63s\tremaining: 1.43s\n",
      "647:\tlearn: 0.1706253\ttotal: 2.63s\tremaining: 1.43s\n",
      "648:\tlearn: 0.1705619\ttotal: 2.63s\tremaining: 1.42s\n",
      "649:\tlearn: 0.1705255\ttotal: 2.64s\tremaining: 1.42s\n",
      "650:\tlearn: 0.1704964\ttotal: 2.64s\tremaining: 1.42s\n",
      "651:\tlearn: 0.1704591\ttotal: 2.65s\tremaining: 1.41s\n",
      "652:\tlearn: 0.1704099\ttotal: 2.65s\tremaining: 1.41s\n",
      "653:\tlearn: 0.1703627\ttotal: 2.66s\tremaining: 1.41s\n",
      "654:\tlearn: 0.1703175\ttotal: 2.66s\tremaining: 1.4s\n",
      "655:\tlearn: 0.1702781\ttotal: 2.66s\tremaining: 1.4s\n",
      "656:\tlearn: 0.1702362\ttotal: 2.67s\tremaining: 1.39s\n",
      "657:\tlearn: 0.1701930\ttotal: 2.67s\tremaining: 1.39s\n",
      "658:\tlearn: 0.1701375\ttotal: 2.68s\tremaining: 1.39s\n",
      "659:\tlearn: 0.1701011\ttotal: 2.68s\tremaining: 1.38s\n",
      "660:\tlearn: 0.1700448\ttotal: 2.68s\tremaining: 1.38s\n",
      "661:\tlearn: 0.1700120\ttotal: 2.69s\tremaining: 1.37s\n",
      "662:\tlearn: 0.1699701\ttotal: 2.69s\tremaining: 1.37s\n",
      "663:\tlearn: 0.1699217\ttotal: 2.7s\tremaining: 1.36s\n",
      "664:\tlearn: 0.1698510\ttotal: 2.7s\tremaining: 1.36s\n",
      "665:\tlearn: 0.1697695\ttotal: 2.7s\tremaining: 1.35s\n",
      "666:\tlearn: 0.1697226\ttotal: 2.71s\tremaining: 1.35s\n",
      "667:\tlearn: 0.1696719\ttotal: 2.71s\tremaining: 1.35s\n",
      "668:\tlearn: 0.1696192\ttotal: 2.71s\tremaining: 1.34s\n",
      "669:\tlearn: 0.1695695\ttotal: 2.72s\tremaining: 1.34s\n",
      "670:\tlearn: 0.1695091\ttotal: 2.72s\tremaining: 1.33s\n",
      "671:\tlearn: 0.1694685\ttotal: 2.73s\tremaining: 1.33s\n",
      "672:\tlearn: 0.1694200\ttotal: 2.73s\tremaining: 1.33s\n",
      "673:\tlearn: 0.1693618\ttotal: 2.73s\tremaining: 1.32s\n",
      "674:\tlearn: 0.1693233\ttotal: 2.74s\tremaining: 1.32s\n",
      "675:\tlearn: 0.1692972\ttotal: 2.74s\tremaining: 1.31s\n",
      "676:\tlearn: 0.1692789\ttotal: 2.74s\tremaining: 1.31s\n",
      "677:\tlearn: 0.1692292\ttotal: 2.75s\tremaining: 1.3s\n",
      "678:\tlearn: 0.1691616\ttotal: 2.75s\tremaining: 1.3s\n",
      "679:\tlearn: 0.1691257\ttotal: 2.76s\tremaining: 1.3s\n",
      "680:\tlearn: 0.1690748\ttotal: 2.76s\tremaining: 1.29s\n",
      "681:\tlearn: 0.1690263\ttotal: 2.76s\tremaining: 1.29s\n",
      "682:\tlearn: 0.1689725\ttotal: 2.77s\tremaining: 1.28s\n",
      "683:\tlearn: 0.1689492\ttotal: 2.77s\tremaining: 1.28s\n",
      "684:\tlearn: 0.1689297\ttotal: 2.78s\tremaining: 1.28s\n",
      "685:\tlearn: 0.1688963\ttotal: 2.78s\tremaining: 1.27s\n",
      "686:\tlearn: 0.1688657\ttotal: 2.78s\tremaining: 1.27s\n",
      "687:\tlearn: 0.1688338\ttotal: 2.79s\tremaining: 1.26s\n",
      "688:\tlearn: 0.1688048\ttotal: 2.79s\tremaining: 1.26s\n",
      "689:\tlearn: 0.1687382\ttotal: 2.79s\tremaining: 1.25s\n",
      "690:\tlearn: 0.1686814\ttotal: 2.8s\tremaining: 1.25s\n",
      "691:\tlearn: 0.1686182\ttotal: 2.8s\tremaining: 1.25s\n",
      "692:\tlearn: 0.1685745\ttotal: 2.81s\tremaining: 1.24s\n",
      "693:\tlearn: 0.1685383\ttotal: 2.81s\tremaining: 1.24s\n",
      "694:\tlearn: 0.1684961\ttotal: 2.81s\tremaining: 1.24s\n",
      "695:\tlearn: 0.1684456\ttotal: 2.82s\tremaining: 1.23s\n",
      "696:\tlearn: 0.1684221\ttotal: 2.82s\tremaining: 1.23s\n",
      "697:\tlearn: 0.1683589\ttotal: 2.83s\tremaining: 1.22s\n",
      "698:\tlearn: 0.1682940\ttotal: 2.83s\tremaining: 1.22s\n",
      "699:\tlearn: 0.1682620\ttotal: 2.83s\tremaining: 1.21s\n",
      "700:\tlearn: 0.1682340\ttotal: 2.84s\tremaining: 1.21s\n",
      "701:\tlearn: 0.1682019\ttotal: 2.84s\tremaining: 1.21s\n",
      "702:\tlearn: 0.1681591\ttotal: 2.85s\tremaining: 1.2s\n",
      "703:\tlearn: 0.1681201\ttotal: 2.85s\tremaining: 1.2s\n",
      "704:\tlearn: 0.1680829\ttotal: 2.85s\tremaining: 1.19s\n",
      "705:\tlearn: 0.1680500\ttotal: 2.86s\tremaining: 1.19s\n",
      "706:\tlearn: 0.1680025\ttotal: 2.86s\tremaining: 1.19s\n",
      "707:\tlearn: 0.1679728\ttotal: 2.86s\tremaining: 1.18s\n",
      "708:\tlearn: 0.1679380\ttotal: 2.87s\tremaining: 1.18s\n",
      "709:\tlearn: 0.1678901\ttotal: 2.87s\tremaining: 1.17s\n",
      "710:\tlearn: 0.1678219\ttotal: 2.88s\tremaining: 1.17s\n",
      "711:\tlearn: 0.1678099\ttotal: 2.88s\tremaining: 1.16s\n",
      "712:\tlearn: 0.1677504\ttotal: 2.88s\tremaining: 1.16s\n",
      "713:\tlearn: 0.1677178\ttotal: 2.88s\tremaining: 1.16s\n",
      "714:\tlearn: 0.1676576\ttotal: 2.89s\tremaining: 1.15s\n",
      "715:\tlearn: 0.1675871\ttotal: 2.89s\tremaining: 1.15s\n",
      "716:\tlearn: 0.1675224\ttotal: 2.9s\tremaining: 1.14s\n",
      "717:\tlearn: 0.1674799\ttotal: 2.9s\tremaining: 1.14s\n",
      "718:\tlearn: 0.1674406\ttotal: 2.9s\tremaining: 1.14s\n",
      "719:\tlearn: 0.1673870\ttotal: 2.91s\tremaining: 1.13s\n",
      "720:\tlearn: 0.1673708\ttotal: 2.91s\tremaining: 1.13s\n",
      "721:\tlearn: 0.1673378\ttotal: 2.92s\tremaining: 1.12s\n",
      "722:\tlearn: 0.1672760\ttotal: 2.92s\tremaining: 1.12s\n",
      "723:\tlearn: 0.1672118\ttotal: 2.92s\tremaining: 1.11s\n",
      "724:\tlearn: 0.1671590\ttotal: 2.93s\tremaining: 1.11s\n",
      "725:\tlearn: 0.1671270\ttotal: 2.93s\tremaining: 1.11s\n",
      "726:\tlearn: 0.1671030\ttotal: 2.93s\tremaining: 1.1s\n",
      "727:\tlearn: 0.1670535\ttotal: 2.94s\tremaining: 1.1s\n",
      "728:\tlearn: 0.1669997\ttotal: 2.94s\tremaining: 1.09s\n",
      "729:\tlearn: 0.1669690\ttotal: 2.94s\tremaining: 1.09s\n",
      "730:\tlearn: 0.1669276\ttotal: 2.95s\tremaining: 1.08s\n",
      "731:\tlearn: 0.1668833\ttotal: 2.95s\tremaining: 1.08s\n",
      "732:\tlearn: 0.1668440\ttotal: 2.96s\tremaining: 1.08s\n",
      "733:\tlearn: 0.1667869\ttotal: 2.96s\tremaining: 1.07s\n",
      "734:\tlearn: 0.1667376\ttotal: 2.96s\tremaining: 1.07s\n",
      "735:\tlearn: 0.1667057\ttotal: 2.97s\tremaining: 1.06s\n",
      "736:\tlearn: 0.1666689\ttotal: 2.97s\tremaining: 1.06s\n",
      "737:\tlearn: 0.1665977\ttotal: 2.98s\tremaining: 1.06s\n",
      "738:\tlearn: 0.1665412\ttotal: 2.98s\tremaining: 1.05s\n",
      "739:\tlearn: 0.1665106\ttotal: 2.98s\tremaining: 1.05s\n",
      "740:\tlearn: 0.1664521\ttotal: 2.99s\tremaining: 1.04s\n",
      "741:\tlearn: 0.1664045\ttotal: 2.99s\tremaining: 1.04s\n",
      "742:\tlearn: 0.1663243\ttotal: 3s\tremaining: 1.04s\n",
      "743:\tlearn: 0.1662609\ttotal: 3s\tremaining: 1.03s\n",
      "744:\tlearn: 0.1662133\ttotal: 3s\tremaining: 1.03s\n",
      "745:\tlearn: 0.1661695\ttotal: 3.01s\tremaining: 1.02s\n",
      "746:\tlearn: 0.1661231\ttotal: 3.01s\tremaining: 1.02s\n",
      "747:\tlearn: 0.1660668\ttotal: 3.01s\tremaining: 1.01s\n",
      "748:\tlearn: 0.1660438\ttotal: 3.02s\tremaining: 1.01s\n",
      "749:\tlearn: 0.1660227\ttotal: 3.02s\tremaining: 1.01s\n",
      "750:\tlearn: 0.1659802\ttotal: 3.02s\tremaining: 1s\n",
      "751:\tlearn: 0.1659170\ttotal: 3.03s\tremaining: 999ms\n",
      "752:\tlearn: 0.1658900\ttotal: 3.03s\tremaining: 995ms\n",
      "753:\tlearn: 0.1658428\ttotal: 3.04s\tremaining: 991ms\n",
      "754:\tlearn: 0.1658051\ttotal: 3.04s\tremaining: 987ms\n",
      "755:\tlearn: 0.1657370\ttotal: 3.04s\tremaining: 983ms\n",
      "756:\tlearn: 0.1656773\ttotal: 3.05s\tremaining: 979ms\n",
      "757:\tlearn: 0.1656360\ttotal: 3.05s\tremaining: 974ms\n",
      "758:\tlearn: 0.1655865\ttotal: 3.06s\tremaining: 970ms\n",
      "759:\tlearn: 0.1655775\ttotal: 3.06s\tremaining: 966ms\n",
      "760:\tlearn: 0.1655421\ttotal: 3.06s\tremaining: 962ms\n",
      "761:\tlearn: 0.1655327\ttotal: 3.07s\tremaining: 958ms\n",
      "762:\tlearn: 0.1654915\ttotal: 3.07s\tremaining: 954ms\n",
      "763:\tlearn: 0.1654494\ttotal: 3.07s\tremaining: 950ms\n",
      "764:\tlearn: 0.1653948\ttotal: 3.08s\tremaining: 946ms\n",
      "765:\tlearn: 0.1653078\ttotal: 3.08s\tremaining: 941ms\n",
      "766:\tlearn: 0.1652515\ttotal: 3.08s\tremaining: 937ms\n",
      "767:\tlearn: 0.1652043\ttotal: 3.09s\tremaining: 933ms\n",
      "768:\tlearn: 0.1651553\ttotal: 3.09s\tremaining: 929ms\n",
      "769:\tlearn: 0.1651244\ttotal: 3.1s\tremaining: 925ms\n",
      "770:\tlearn: 0.1650840\ttotal: 3.1s\tremaining: 921ms\n",
      "771:\tlearn: 0.1650143\ttotal: 3.1s\tremaining: 917ms\n",
      "772:\tlearn: 0.1649569\ttotal: 3.11s\tremaining: 913ms\n",
      "773:\tlearn: 0.1649079\ttotal: 3.11s\tremaining: 909ms\n",
      "774:\tlearn: 0.1648742\ttotal: 3.12s\tremaining: 905ms\n",
      "775:\tlearn: 0.1648383\ttotal: 3.12s\tremaining: 900ms\n",
      "776:\tlearn: 0.1647893\ttotal: 3.12s\tremaining: 896ms\n",
      "777:\tlearn: 0.1646970\ttotal: 3.13s\tremaining: 892ms\n",
      "778:\tlearn: 0.1646339\ttotal: 3.13s\tremaining: 888ms\n",
      "779:\tlearn: 0.1646096\ttotal: 3.13s\tremaining: 884ms\n",
      "780:\tlearn: 0.1645724\ttotal: 3.14s\tremaining: 880ms\n",
      "781:\tlearn: 0.1645357\ttotal: 3.14s\tremaining: 876ms\n"
     ]
    },
    {
     "name": "stdout",
     "output_type": "stream",
     "text": [
      "782:\tlearn: 0.1645084\ttotal: 3.15s\tremaining: 872ms\n",
      "783:\tlearn: 0.1644548\ttotal: 3.15s\tremaining: 869ms\n",
      "784:\tlearn: 0.1644036\ttotal: 3.16s\tremaining: 865ms\n",
      "785:\tlearn: 0.1643706\ttotal: 3.16s\tremaining: 861ms\n",
      "786:\tlearn: 0.1643015\ttotal: 3.17s\tremaining: 857ms\n",
      "787:\tlearn: 0.1642534\ttotal: 3.17s\tremaining: 853ms\n",
      "788:\tlearn: 0.1642216\ttotal: 3.17s\tremaining: 849ms\n",
      "789:\tlearn: 0.1641748\ttotal: 3.18s\tremaining: 845ms\n",
      "790:\tlearn: 0.1641290\ttotal: 3.18s\tremaining: 841ms\n",
      "791:\tlearn: 0.1641213\ttotal: 3.19s\tremaining: 837ms\n",
      "792:\tlearn: 0.1640670\ttotal: 3.19s\tremaining: 833ms\n",
      "793:\tlearn: 0.1640200\ttotal: 3.19s\tremaining: 829ms\n",
      "794:\tlearn: 0.1639682\ttotal: 3.2s\tremaining: 825ms\n",
      "795:\tlearn: 0.1639345\ttotal: 3.2s\tremaining: 821ms\n",
      "796:\tlearn: 0.1639137\ttotal: 3.21s\tremaining: 817ms\n",
      "797:\tlearn: 0.1638860\ttotal: 3.21s\tremaining: 813ms\n",
      "798:\tlearn: 0.1638463\ttotal: 3.21s\tremaining: 809ms\n",
      "799:\tlearn: 0.1638015\ttotal: 3.22s\tremaining: 804ms\n",
      "800:\tlearn: 0.1637929\ttotal: 3.22s\tremaining: 800ms\n",
      "801:\tlearn: 0.1637559\ttotal: 3.23s\tremaining: 796ms\n",
      "802:\tlearn: 0.1637248\ttotal: 3.23s\tremaining: 792ms\n",
      "803:\tlearn: 0.1636751\ttotal: 3.23s\tremaining: 788ms\n",
      "804:\tlearn: 0.1636680\ttotal: 3.24s\tremaining: 784ms\n",
      "805:\tlearn: 0.1636253\ttotal: 3.24s\tremaining: 781ms\n",
      "806:\tlearn: 0.1635978\ttotal: 3.25s\tremaining: 777ms\n",
      "807:\tlearn: 0.1635577\ttotal: 3.25s\tremaining: 773ms\n",
      "808:\tlearn: 0.1635143\ttotal: 3.26s\tremaining: 769ms\n",
      "809:\tlearn: 0.1634680\ttotal: 3.26s\tremaining: 765ms\n",
      "810:\tlearn: 0.1634594\ttotal: 3.27s\tremaining: 761ms\n",
      "811:\tlearn: 0.1634144\ttotal: 3.27s\tremaining: 757ms\n",
      "812:\tlearn: 0.1633863\ttotal: 3.27s\tremaining: 753ms\n",
      "813:\tlearn: 0.1633512\ttotal: 3.28s\tremaining: 749ms\n",
      "814:\tlearn: 0.1632846\ttotal: 3.28s\tremaining: 745ms\n",
      "815:\tlearn: 0.1632401\ttotal: 3.29s\tremaining: 741ms\n",
      "816:\tlearn: 0.1632157\ttotal: 3.29s\tremaining: 737ms\n",
      "817:\tlearn: 0.1631700\ttotal: 3.3s\tremaining: 734ms\n",
      "818:\tlearn: 0.1631505\ttotal: 3.3s\tremaining: 730ms\n",
      "819:\tlearn: 0.1631198\ttotal: 3.3s\tremaining: 725ms\n",
      "820:\tlearn: 0.1630721\ttotal: 3.31s\tremaining: 721ms\n",
      "821:\tlearn: 0.1630411\ttotal: 3.31s\tremaining: 718ms\n",
      "822:\tlearn: 0.1630077\ttotal: 3.32s\tremaining: 714ms\n",
      "823:\tlearn: 0.1629682\ttotal: 3.32s\tremaining: 710ms\n",
      "824:\tlearn: 0.1629427\ttotal: 3.33s\tremaining: 705ms\n",
      "825:\tlearn: 0.1629058\ttotal: 3.33s\tremaining: 701ms\n",
      "826:\tlearn: 0.1628926\ttotal: 3.33s\tremaining: 697ms\n",
      "827:\tlearn: 0.1628782\ttotal: 3.34s\tremaining: 693ms\n",
      "828:\tlearn: 0.1628372\ttotal: 3.34s\tremaining: 690ms\n",
      "829:\tlearn: 0.1627873\ttotal: 3.35s\tremaining: 686ms\n",
      "830:\tlearn: 0.1627452\ttotal: 3.35s\tremaining: 682ms\n",
      "831:\tlearn: 0.1627127\ttotal: 3.35s\tremaining: 678ms\n",
      "832:\tlearn: 0.1626523\ttotal: 3.36s\tremaining: 674ms\n",
      "833:\tlearn: 0.1626082\ttotal: 3.36s\tremaining: 670ms\n",
      "834:\tlearn: 0.1625619\ttotal: 3.37s\tremaining: 665ms\n",
      "835:\tlearn: 0.1625279\ttotal: 3.37s\tremaining: 662ms\n",
      "836:\tlearn: 0.1624891\ttotal: 3.38s\tremaining: 657ms\n",
      "837:\tlearn: 0.1624540\ttotal: 3.38s\tremaining: 654ms\n",
      "838:\tlearn: 0.1624314\ttotal: 3.38s\tremaining: 650ms\n",
      "839:\tlearn: 0.1623808\ttotal: 3.39s\tremaining: 645ms\n",
      "840:\tlearn: 0.1623747\ttotal: 3.39s\tremaining: 641ms\n",
      "841:\tlearn: 0.1623234\ttotal: 3.4s\tremaining: 638ms\n",
      "842:\tlearn: 0.1622816\ttotal: 3.4s\tremaining: 633ms\n",
      "843:\tlearn: 0.1622516\ttotal: 3.4s\tremaining: 629ms\n",
      "844:\tlearn: 0.1622296\ttotal: 3.41s\tremaining: 625ms\n",
      "845:\tlearn: 0.1622224\ttotal: 3.41s\tremaining: 621ms\n",
      "846:\tlearn: 0.1621951\ttotal: 3.42s\tremaining: 617ms\n",
      "847:\tlearn: 0.1621875\ttotal: 3.42s\tremaining: 613ms\n",
      "848:\tlearn: 0.1621553\ttotal: 3.42s\tremaining: 609ms\n",
      "849:\tlearn: 0.1621039\ttotal: 3.43s\tremaining: 605ms\n",
      "850:\tlearn: 0.1620590\ttotal: 3.43s\tremaining: 601ms\n",
      "851:\tlearn: 0.1620345\ttotal: 3.44s\tremaining: 597ms\n",
      "852:\tlearn: 0.1620244\ttotal: 3.44s\tremaining: 593ms\n",
      "853:\tlearn: 0.1619752\ttotal: 3.44s\tremaining: 589ms\n",
      "854:\tlearn: 0.1619242\ttotal: 3.45s\tremaining: 585ms\n",
      "855:\tlearn: 0.1619156\ttotal: 3.45s\tremaining: 581ms\n",
      "856:\tlearn: 0.1618772\ttotal: 3.46s\tremaining: 577ms\n",
      "857:\tlearn: 0.1618716\ttotal: 3.46s\tremaining: 573ms\n",
      "858:\tlearn: 0.1618367\ttotal: 3.46s\tremaining: 569ms\n",
      "859:\tlearn: 0.1618020\ttotal: 3.47s\tremaining: 565ms\n",
      "860:\tlearn: 0.1617553\ttotal: 3.47s\tremaining: 561ms\n",
      "861:\tlearn: 0.1617077\ttotal: 3.48s\tremaining: 557ms\n",
      "862:\tlearn: 0.1616566\ttotal: 3.48s\tremaining: 552ms\n",
      "863:\tlearn: 0.1615969\ttotal: 3.48s\tremaining: 548ms\n",
      "864:\tlearn: 0.1615874\ttotal: 3.49s\tremaining: 544ms\n",
      "865:\tlearn: 0.1615536\ttotal: 3.49s\tremaining: 540ms\n",
      "866:\tlearn: 0.1615068\ttotal: 3.49s\tremaining: 536ms\n",
      "867:\tlearn: 0.1614382\ttotal: 3.5s\tremaining: 532ms\n",
      "868:\tlearn: 0.1613823\ttotal: 3.5s\tremaining: 528ms\n",
      "869:\tlearn: 0.1613327\ttotal: 3.5s\tremaining: 524ms\n",
      "870:\tlearn: 0.1612825\ttotal: 3.51s\tremaining: 520ms\n",
      "871:\tlearn: 0.1612293\ttotal: 3.51s\tremaining: 516ms\n",
      "872:\tlearn: 0.1611876\ttotal: 3.52s\tremaining: 512ms\n",
      "873:\tlearn: 0.1611570\ttotal: 3.52s\tremaining: 508ms\n",
      "874:\tlearn: 0.1610989\ttotal: 3.52s\tremaining: 503ms\n",
      "875:\tlearn: 0.1610463\ttotal: 3.53s\tremaining: 499ms\n",
      "876:\tlearn: 0.1610123\ttotal: 3.53s\tremaining: 495ms\n",
      "877:\tlearn: 0.1609678\ttotal: 3.54s\tremaining: 491ms\n",
      "878:\tlearn: 0.1609402\ttotal: 3.54s\tremaining: 487ms\n",
      "879:\tlearn: 0.1608911\ttotal: 3.54s\tremaining: 483ms\n",
      "880:\tlearn: 0.1608574\ttotal: 3.55s\tremaining: 479ms\n",
      "881:\tlearn: 0.1608257\ttotal: 3.55s\tremaining: 475ms\n",
      "882:\tlearn: 0.1608034\ttotal: 3.56s\tremaining: 471ms\n",
      "883:\tlearn: 0.1607712\ttotal: 3.56s\tremaining: 467ms\n",
      "884:\tlearn: 0.1607239\ttotal: 3.56s\tremaining: 463ms\n",
      "885:\tlearn: 0.1606983\ttotal: 3.57s\tremaining: 459ms\n",
      "886:\tlearn: 0.1606735\ttotal: 3.57s\tremaining: 455ms\n",
      "887:\tlearn: 0.1606177\ttotal: 3.58s\tremaining: 451ms\n",
      "888:\tlearn: 0.1605822\ttotal: 3.58s\tremaining: 447ms\n",
      "889:\tlearn: 0.1605189\ttotal: 3.58s\tremaining: 443ms\n",
      "890:\tlearn: 0.1604867\ttotal: 3.59s\tremaining: 439ms\n",
      "891:\tlearn: 0.1604583\ttotal: 3.59s\tremaining: 435ms\n",
      "892:\tlearn: 0.1604458\ttotal: 3.6s\tremaining: 431ms\n",
      "893:\tlearn: 0.1603860\ttotal: 3.6s\tremaining: 427ms\n",
      "894:\tlearn: 0.1603592\ttotal: 3.6s\tremaining: 423ms\n",
      "895:\tlearn: 0.1603330\ttotal: 3.61s\tremaining: 419ms\n",
      "896:\tlearn: 0.1602847\ttotal: 3.61s\tremaining: 415ms\n",
      "897:\tlearn: 0.1602258\ttotal: 3.61s\tremaining: 411ms\n",
      "898:\tlearn: 0.1601360\ttotal: 3.62s\tremaining: 407ms\n",
      "899:\tlearn: 0.1600959\ttotal: 3.62s\tremaining: 402ms\n",
      "900:\tlearn: 0.1600401\ttotal: 3.63s\tremaining: 398ms\n",
      "901:\tlearn: 0.1600235\ttotal: 3.63s\tremaining: 394ms\n",
      "902:\tlearn: 0.1599629\ttotal: 3.63s\tremaining: 390ms\n",
      "903:\tlearn: 0.1599261\ttotal: 3.64s\tremaining: 386ms\n",
      "904:\tlearn: 0.1598856\ttotal: 3.64s\tremaining: 382ms\n",
      "905:\tlearn: 0.1598196\ttotal: 3.65s\tremaining: 378ms\n",
      "906:\tlearn: 0.1597917\ttotal: 3.65s\tremaining: 374ms\n",
      "907:\tlearn: 0.1597719\ttotal: 3.65s\tremaining: 370ms\n",
      "908:\tlearn: 0.1597585\ttotal: 3.66s\tremaining: 366ms\n",
      "909:\tlearn: 0.1597362\ttotal: 3.66s\tremaining: 362ms\n",
      "910:\tlearn: 0.1597019\ttotal: 3.66s\tremaining: 358ms\n",
      "911:\tlearn: 0.1596776\ttotal: 3.67s\tremaining: 354ms\n",
      "912:\tlearn: 0.1596545\ttotal: 3.67s\tremaining: 350ms\n",
      "913:\tlearn: 0.1595917\ttotal: 3.68s\tremaining: 346ms\n",
      "914:\tlearn: 0.1595589\ttotal: 3.68s\tremaining: 342ms\n",
      "915:\tlearn: 0.1595218\ttotal: 3.69s\tremaining: 338ms\n",
      "916:\tlearn: 0.1594905\ttotal: 3.69s\tremaining: 334ms\n",
      "917:\tlearn: 0.1594487\ttotal: 3.69s\tremaining: 330ms\n",
      "918:\tlearn: 0.1594309\ttotal: 3.7s\tremaining: 326ms\n",
      "919:\tlearn: 0.1593740\ttotal: 3.7s\tremaining: 322ms\n",
      "920:\tlearn: 0.1593397\ttotal: 3.71s\tremaining: 318ms\n",
      "921:\tlearn: 0.1593089\ttotal: 3.71s\tremaining: 314ms\n",
      "922:\tlearn: 0.1592916\ttotal: 3.72s\tremaining: 310ms\n",
      "923:\tlearn: 0.1592644\ttotal: 3.72s\tremaining: 306ms\n",
      "924:\tlearn: 0.1592483\ttotal: 3.73s\tremaining: 302ms\n",
      "925:\tlearn: 0.1592025\ttotal: 3.73s\tremaining: 298ms\n",
      "926:\tlearn: 0.1591485\ttotal: 3.73s\tremaining: 294ms\n",
      "927:\tlearn: 0.1591111\ttotal: 3.74s\tremaining: 290ms\n",
      "928:\tlearn: 0.1590604\ttotal: 3.74s\tremaining: 286ms\n",
      "929:\tlearn: 0.1590134\ttotal: 3.75s\tremaining: 282ms\n",
      "930:\tlearn: 0.1589891\ttotal: 3.75s\tremaining: 278ms\n",
      "931:\tlearn: 0.1589588\ttotal: 3.76s\tremaining: 274ms\n",
      "932:\tlearn: 0.1589200\ttotal: 3.76s\tremaining: 270ms\n",
      "933:\tlearn: 0.1588918\ttotal: 3.77s\tremaining: 266ms\n",
      "934:\tlearn: 0.1588681\ttotal: 3.77s\tremaining: 262ms\n",
      "935:\tlearn: 0.1588302\ttotal: 3.77s\tremaining: 258ms\n",
      "936:\tlearn: 0.1587971\ttotal: 3.78s\tremaining: 254ms\n",
      "937:\tlearn: 0.1587511\ttotal: 3.78s\tremaining: 250ms\n",
      "938:\tlearn: 0.1587044\ttotal: 3.79s\tremaining: 246ms\n",
      "939:\tlearn: 0.1586562\ttotal: 3.79s\tremaining: 242ms\n",
      "940:\tlearn: 0.1586350\ttotal: 3.79s\tremaining: 238ms\n",
      "941:\tlearn: 0.1585967\ttotal: 3.8s\tremaining: 234ms\n",
      "942:\tlearn: 0.1585923\ttotal: 3.81s\tremaining: 230ms\n",
      "943:\tlearn: 0.1585423\ttotal: 3.81s\tremaining: 226ms\n",
      "944:\tlearn: 0.1585115\ttotal: 3.81s\tremaining: 222ms\n",
      "945:\tlearn: 0.1585013\ttotal: 3.82s\tremaining: 218ms\n",
      "946:\tlearn: 0.1584598\ttotal: 3.82s\tremaining: 214ms\n",
      "947:\tlearn: 0.1583987\ttotal: 3.83s\tremaining: 210ms\n",
      "948:\tlearn: 0.1583598\ttotal: 3.83s\tremaining: 206ms\n",
      "949:\tlearn: 0.1582978\ttotal: 3.83s\tremaining: 202ms\n",
      "950:\tlearn: 0.1582731\ttotal: 3.84s\tremaining: 198ms\n",
      "951:\tlearn: 0.1582208\ttotal: 3.84s\tremaining: 194ms\n",
      "952:\tlearn: 0.1581841\ttotal: 3.85s\tremaining: 190ms\n",
      "953:\tlearn: 0.1581613\ttotal: 3.85s\tremaining: 186ms\n",
      "954:\tlearn: 0.1581188\ttotal: 3.85s\tremaining: 182ms\n",
      "955:\tlearn: 0.1580835\ttotal: 3.86s\tremaining: 178ms\n",
      "956:\tlearn: 0.1580619\ttotal: 3.86s\tremaining: 174ms\n",
      "957:\tlearn: 0.1580359\ttotal: 3.87s\tremaining: 170ms\n",
      "958:\tlearn: 0.1580060\ttotal: 3.87s\tremaining: 165ms\n",
      "959:\tlearn: 0.1579738\ttotal: 3.87s\tremaining: 161ms\n",
      "960:\tlearn: 0.1579458\ttotal: 3.88s\tremaining: 157ms\n",
      "961:\tlearn: 0.1579066\ttotal: 3.88s\tremaining: 153ms\n",
      "962:\tlearn: 0.1578591\ttotal: 3.88s\tremaining: 149ms\n",
      "963:\tlearn: 0.1578073\ttotal: 3.89s\tremaining: 145ms\n",
      "964:\tlearn: 0.1577778\ttotal: 3.89s\tremaining: 141ms\n",
      "965:\tlearn: 0.1577639\ttotal: 3.9s\tremaining: 137ms\n",
      "966:\tlearn: 0.1577064\ttotal: 3.9s\tremaining: 133ms\n",
      "967:\tlearn: 0.1576708\ttotal: 3.9s\tremaining: 129ms\n",
      "968:\tlearn: 0.1576405\ttotal: 3.91s\tremaining: 125ms\n",
      "969:\tlearn: 0.1575892\ttotal: 3.91s\tremaining: 121ms\n",
      "970:\tlearn: 0.1575401\ttotal: 3.92s\tremaining: 117ms\n",
      "971:\tlearn: 0.1575217\ttotal: 3.92s\tremaining: 113ms\n",
      "972:\tlearn: 0.1575045\ttotal: 3.92s\tremaining: 109ms\n",
      "973:\tlearn: 0.1574760\ttotal: 3.93s\tremaining: 105ms\n",
      "974:\tlearn: 0.1574337\ttotal: 3.93s\tremaining: 101ms\n"
     ]
    },
    {
     "name": "stdout",
     "output_type": "stream",
     "text": [
      "975:\tlearn: 0.1574069\ttotal: 3.94s\tremaining: 96.8ms\n",
      "976:\tlearn: 0.1573693\ttotal: 3.94s\tremaining: 92.8ms\n",
      "977:\tlearn: 0.1573369\ttotal: 3.94s\tremaining: 88.7ms\n",
      "978:\tlearn: 0.1572957\ttotal: 3.95s\tremaining: 84.7ms\n",
      "979:\tlearn: 0.1572500\ttotal: 3.95s\tremaining: 80.7ms\n",
      "980:\tlearn: 0.1572255\ttotal: 3.96s\tremaining: 76.7ms\n",
      "981:\tlearn: 0.1571913\ttotal: 3.96s\tremaining: 72.6ms\n",
      "982:\tlearn: 0.1571491\ttotal: 3.96s\tremaining: 68.6ms\n",
      "983:\tlearn: 0.1571201\ttotal: 3.97s\tremaining: 64.5ms\n",
      "984:\tlearn: 0.1570776\ttotal: 3.97s\tremaining: 60.5ms\n",
      "985:\tlearn: 0.1570123\ttotal: 3.98s\tremaining: 56.5ms\n",
      "986:\tlearn: 0.1569611\ttotal: 3.98s\tremaining: 52.4ms\n",
      "987:\tlearn: 0.1569344\ttotal: 3.98s\tremaining: 48.4ms\n",
      "988:\tlearn: 0.1569239\ttotal: 3.99s\tremaining: 44.4ms\n",
      "989:\tlearn: 0.1568935\ttotal: 3.99s\tremaining: 40.3ms\n",
      "990:\tlearn: 0.1568503\ttotal: 4s\tremaining: 36.3ms\n",
      "991:\tlearn: 0.1567690\ttotal: 4s\tremaining: 32.3ms\n",
      "992:\tlearn: 0.1567322\ttotal: 4s\tremaining: 28.2ms\n",
      "993:\tlearn: 0.1567167\ttotal: 4.01s\tremaining: 24.2ms\n",
      "994:\tlearn: 0.1566804\ttotal: 4.01s\tremaining: 20.2ms\n",
      "995:\tlearn: 0.1566324\ttotal: 4.02s\tremaining: 16.1ms\n",
      "996:\tlearn: 0.1565902\ttotal: 4.02s\tremaining: 12.1ms\n",
      "997:\tlearn: 0.1565595\ttotal: 4.02s\tremaining: 8.06ms\n",
      "998:\tlearn: 0.1565305\ttotal: 4.03s\tremaining: 4.03ms\n",
      "999:\tlearn: 0.1565011\ttotal: 4.03s\tremaining: 0us\n",
      "Test ROC-AUC: 0.8554\n"
     ]
    }
   ],
   "source": [
    "from catboost import CatBoost, Pool, CatBoostClassifier\n",
    "\n",
    "catboost = CatBoostClassifier()\n",
    "catboost.fit(x_train, y_train)\n",
    "catboost_pred = catboost.predict(Pool(x_test, y_test))\n",
    "\n",
    "print(f'Test ROC-AUC: {roc_auc_score(catboost_pred, y_test):.4f}')"
   ]
  },
  {
   "cell_type": "markdown",
   "metadata": {},
   "source": [
    "Получилось похуже, чем в нашей реализации бустинга, ну я думаю, потому что я взяла самую базовую версию катбуста, а если поподбирать гиперпараметры, то можно добиться гораздо лучшего качества."
   ]
  },
  {
   "cell_type": "markdown",
   "metadata": {
    "pycharm": {
     "name": "#%% md\n"
    }
   },
   "source": [
    "## Социализационный бонус. Новогоднее 🎆 (0.5 балла)\n",
    "\n",
    "Сфотографируйтесь с наряженной новогодней или рождественской ёлкой! Приложите фотографию, опишите свои впечатления, чего вы ждете от нового 2024 года?"
   ]
  },
  {
   "cell_type": "code",
   "execution_count": 71,
   "metadata": {},
   "outputs": [
    {
     "data": {
      "text/html": [
       "<iframe src=\"https://www.youtube.com/embed/uUSjpbaM_4s\"></iframe>\n"
      ],
      "text/plain": [
       "<IPython.core.display.HTML object>"
      ]
     },
     "metadata": {},
     "output_type": "display_data"
    }
   ],
   "source": [
    "%%HTML\n",
    "<iframe src=\"https://www.youtube.com/embed/uUSjpbaM_4s\"></iframe>"
   ]
  },
  {
   "cell_type": "markdown",
   "metadata": {},
   "source": [
    "Эта домашка научила меня, как загружать шортсы на ютуб!!! Теперь стану популярным шортсером и уйду нафик из айти.\n",
    "\n",
    "Если честно, в следующем году хотелось бы понять, что мне делать в жизни. Потому что сейчас я абсолютно не уверена в своих выборах ни в профессиональной сфере, ни в личной жизни. \n",
    "\n",
    "Последний месяц по ночам я постоянно чувствовала себя настолько тревожно, что впервые в жизни начала пить транквилизаторы. Надеюсь, в следующем году я успешно от них откажусь, а ещё стану чуть ближе к счастью, гармонии с собой и пониманию себя.\n",
    "\n",
    "Искренне надеюсь, что в следующем году что-то улучшится в политической ситуации в России (хотя и не жду этого), всё-таки хотя бы выборы будут. Думаю, в этом плане будет не менее весело, чем в последние два года. Да не придут ко мне за этот абзац выламывать дверь дяди с автоматами (у проверяющего было дело, насколько я знаю...)\n",
    "\n",
    "Ну и традиционное:\n",
    "\n",
    "*Я всё исправлю, починю и налажу*\n",
    "\n",
    "*Если снег новогодний на прошлогодние грабли не ляжет*\n",
    "\n",
    "*Так что я не замечу до боли знакомых зубцов под подошвой*\n",
    "\n",
    "*Если следующий год, как всегда, снова вдруг не окажется прошлым*"
   ]
  }
 ],
 "metadata": {
  "kernelspec": {
   "display_name": "Python 3 (ipykernel)",
   "language": "python",
   "name": "python3"
  },
  "language_info": {
   "codemirror_mode": {
    "name": "ipython",
    "version": 3
   },
   "file_extension": ".py",
   "mimetype": "text/x-python",
   "name": "python",
   "nbconvert_exporter": "python",
   "pygments_lexer": "ipython3",
   "version": "3.10.12"
  },
  "nbTranslate": {
   "displayLangs": [
    "*"
   ],
   "hotkey": "alt-t",
   "langInMainMenu": true,
   "sourceLang": "en",
   "targetLang": "fr",
   "useGoogleTranslate": true
  },
  "toc": {
   "base_numbering": 1,
   "nav_menu": {
    "height": "210px",
    "width": "492px"
   },
   "number_sections": false,
   "sideBar": true,
   "skip_h1_title": false,
   "title_cell": "Table of Contents",
   "title_sidebar": "Contents",
   "toc_cell": false,
   "toc_position": {},
   "toc_section_display": true,
   "toc_window_display": true
  },
  "varInspector": {
   "cols": {
    "lenName": 16,
    "lenType": 16,
    "lenVar": 40
   },
   "kernels_config": {
    "python": {
     "delete_cmd_postfix": "",
     "delete_cmd_prefix": "del ",
     "library": "var_list.py",
     "varRefreshCmd": "print(var_dic_list())"
    },
    "r": {
     "delete_cmd_postfix": ") ",
     "delete_cmd_prefix": "rm(",
     "library": "var_list.r",
     "varRefreshCmd": "cat(var_dic_list()) "
    }
   },
   "types_to_exclude": [
    "module",
    "function",
    "builtin_function_or_method",
    "instance",
    "_Feature"
   ],
   "window_display": false
  }
 },
 "nbformat": 4,
 "nbformat_minor": 4
}
